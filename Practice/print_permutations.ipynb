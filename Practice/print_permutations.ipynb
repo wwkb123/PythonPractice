{
 "cells": [
  {
   "cell_type": "code",
   "execution_count": 68,
   "metadata": {},
   "outputs": [],
   "source": [
    "# A script that can print all the permutations of a string"
   ]
  },
  {
   "cell_type": "code",
   "execution_count": 64,
   "metadata": {
    "collapsed": true
   },
   "outputs": [],
   "source": [
    "def merge(lastChar,choppedStr):\n",
    "    result = []\n",
    "    for i in range(0,len(choppedStr)):\n",
    "        head = choppedStr[0:i]\n",
    "        tail = choppedStr[i:len(choppedStr)]\n",
    "        newString = head+lastChar+tail\n",
    "        result.append(newString)\n",
    "    result.append(choppedStr+lastChar)\n",
    "    return result"
   ]
  },
  {
   "cell_type": "code",
   "execution_count": 65,
   "metadata": {},
   "outputs": [],
   "source": [
    "def P(string):\n",
    "    if len(string)==1:\n",
    "        return [string]\n",
    "    lastChar = string[-1]\n",
    "    permutation = P(string[0:-1])\n",
    "    result = []\n",
    "    for element in permutation:\n",
    "        for x in merge(lastChar,element):\n",
    "            result.append(x)\n",
    "    return result"
   ]
  },
  {
   "cell_type": "code",
   "execution_count": 66,
   "metadata": {},
   "outputs": [
    {
     "data": {
      "text/plain": [
       "['abcd',\n",
       " 'abdc',\n",
       " 'adbc',\n",
       " 'dabc',\n",
       " 'acbd',\n",
       " 'acdb',\n",
       " 'adcb',\n",
       " 'dacb',\n",
       " 'cabd',\n",
       " 'cadb',\n",
       " 'cdab',\n",
       " 'dcab',\n",
       " 'bacd',\n",
       " 'badc',\n",
       " 'bdac',\n",
       " 'dbac',\n",
       " 'bcad',\n",
       " 'bcda',\n",
       " 'bdca',\n",
       " 'dbca',\n",
       " 'cbad',\n",
       " 'cbda',\n",
       " 'cdba',\n",
       " 'dcba']"
      ]
     },
     "execution_count": 66,
     "metadata": {},
     "output_type": "execute_result"
    }
   ],
   "source": [
    "P(\"abcd\")[::-1]"
   ]
  },
  {
   "cell_type": "code",
   "execution_count": 67,
   "metadata": {},
   "outputs": [
    {
     "data": {
      "text/plain": [
       "24"
      ]
     },
     "execution_count": 67,
     "metadata": {},
     "output_type": "execute_result"
    }
   ],
   "source": [
    "len(P(\"abcd\"))"
   ]
  },
  {
   "cell_type": "code",
   "execution_count": null,
   "metadata": {
    "collapsed": true
   },
   "outputs": [],
   "source": []
  }
 ],
 "metadata": {
  "kernelspec": {
   "display_name": "Python 3",
   "language": "python",
   "name": "python3"
  },
  "language_info": {
   "codemirror_mode": {
    "name": "ipython",
    "version": 3
   },
   "file_extension": ".py",
   "mimetype": "text/x-python",
   "name": "python",
   "nbconvert_exporter": "python",
   "pygments_lexer": "ipython3",
   "version": "3.6.3"
  }
 },
 "nbformat": 4,
 "nbformat_minor": 2
}
