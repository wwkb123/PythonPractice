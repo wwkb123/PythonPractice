{
 "cells": [
  {
   "cell_type": "code",
   "execution_count": 1,
   "metadata": {},
   "outputs": [
    {
     "data": {
      "text/plain": [
       "3"
      ]
     },
     "execution_count": 1,
     "metadata": {},
     "output_type": "execute_result"
    }
   ],
   "source": [
    "1+2"
   ]
  },
  {
   "cell_type": "code",
   "execution_count": 1,
   "metadata": {},
   "outputs": [
    {
     "data": {
      "text/plain": [
       "8"
      ]
     },
     "execution_count": 1,
     "metadata": {},
     "output_type": "execute_result"
    }
   ],
   "source": [
    "2**3"
   ]
  },
  {
   "cell_type": "code",
   "execution_count": 2,
   "metadata": {},
   "outputs": [
    {
     "data": {
      "text/plain": [
       "2.0"
      ]
     },
     "execution_count": 2,
     "metadata": {},
     "output_type": "execute_result"
    }
   ],
   "source": [
    "4**0.5\n"
   ]
  },
  {
   "cell_type": "code",
   "execution_count": 3,
   "metadata": {},
   "outputs": [
    {
     "data": {
      "text/plain": [
       "0.30000000000000004"
      ]
     },
     "execution_count": 3,
     "metadata": {},
     "output_type": "execute_result"
    }
   ],
   "source": [
    "0.1+0.2"
   ]
  },
  {
   "cell_type": "code",
   "execution_count": 4,
   "metadata": {},
   "outputs": [
    {
     "data": {
      "text/plain": [
       "5.551115123125783e-17"
      ]
     },
     "execution_count": 4,
     "metadata": {},
     "output_type": "execute_result"
    }
   ],
   "source": [
    "0.1+0.2-0.3"
   ]
  },
  {
   "cell_type": "code",
   "execution_count": 5,
   "metadata": {},
   "outputs": [
    {
     "data": {
      "text/plain": [
       "0.2"
      ]
     },
     "execution_count": 5,
     "metadata": {},
     "output_type": "execute_result"
    }
   ],
   "source": [
    "0.1+0.1"
   ]
  },
  {
   "cell_type": "code",
   "execution_count": 6,
   "metadata": {},
   "outputs": [
    {
     "data": {
      "text/plain": [
       "0.4"
      ]
     },
     "execution_count": 6,
     "metadata": {},
     "output_type": "execute_result"
    }
   ],
   "source": [
    "0.1+0.3"
   ]
  },
  {
   "cell_type": "code",
   "execution_count": 7,
   "metadata": {},
   "outputs": [
    {
     "data": {
      "text/plain": [
       "0.30000000000000004"
      ]
     },
     "execution_count": 7,
     "metadata": {},
     "output_type": "execute_result"
    }
   ],
   "source": [
    "0.1+0.2"
   ]
  },
  {
   "cell_type": "code",
   "execution_count": 8,
   "metadata": {},
   "outputs": [
    {
     "data": {
      "text/plain": [
       "0.30000000000000004"
      ]
     },
     "execution_count": 8,
     "metadata": {},
     "output_type": "execute_result"
    }
   ],
   "source": [
    "0.2+0.1"
   ]
  },
  {
   "cell_type": "code",
   "execution_count": 9,
   "metadata": {},
   "outputs": [
    {
     "data": {
      "text/plain": [
       "0.2"
      ]
     },
     "execution_count": 9,
     "metadata": {},
     "output_type": "execute_result"
    }
   ],
   "source": [
    "0.2"
   ]
  },
  {
   "cell_type": "code",
   "execution_count": 5,
   "metadata": {},
   "outputs": [
    {
     "name": "stdout",
     "output_type": "stream",
     "text": [
      "the string is 1.21\n"
     ]
    }
   ],
   "source": [
    "asd = 1.213123\n",
    "xxx = \"xxx\"\n",
    "print ('the string is {0:1.2f}'.format(asd))"
   ]
  },
  {
   "cell_type": "code",
   "execution_count": 12,
   "metadata": {},
   "outputs": [
    {
     "name": "stdout",
     "output_type": "stream",
     "text": [
      "asasd 123\n"
     ]
    }
   ],
   "source": [
    "print(\"asasd {0}\".format(\"123\"))"
   ]
  },
  {
   "cell_type": "code",
   "execution_count": 9,
   "metadata": {
    "collapsed": true
   },
   "outputs": [],
   "source": [
    "my_list = [0,2,4,7,99]"
   ]
  },
  {
   "cell_type": "code",
   "execution_count": 10,
   "metadata": {
    "collapsed": true
   },
   "outputs": [],
   "source": [
    "my_list.sort()"
   ]
  },
  {
   "cell_type": "code",
   "execution_count": 11,
   "metadata": {},
   "outputs": [
    {
     "data": {
      "text/plain": [
       "[0, 2, 4, 7, 99]"
      ]
     },
     "execution_count": 11,
     "metadata": {},
     "output_type": "execute_result"
    }
   ],
   "source": [
    "my_list"
   ]
  },
  {
   "cell_type": "code",
   "execution_count": 1,
   "metadata": {},
   "outputs": [
    {
     "data": {
      "text/plain": [
       "'C:\\\\Users\\\\ny'"
      ]
     },
     "execution_count": 1,
     "metadata": {},
     "output_type": "execute_result"
    }
   ],
   "source": [
    "pwd"
   ]
  },
  {
   "cell_type": "code",
   "execution_count": 2,
   "metadata": {
    "collapsed": true
   },
   "outputs": [],
   "source": [
    "f = open('test.txt')"
   ]
  },
  {
   "cell_type": "code",
   "execution_count": 3,
   "metadata": {},
   "outputs": [
    {
     "data": {
      "text/plain": [
       "<_io.TextIOWrapper name='test.txt' mode='r' encoding='cp1252'>"
      ]
     },
     "execution_count": 3,
     "metadata": {},
     "output_type": "execute_result"
    }
   ],
   "source": [
    "f"
   ]
  },
  {
   "cell_type": "code",
   "execution_count": 6,
   "metadata": {},
   "outputs": [
    {
     "data": {
      "text/plain": [
       "[]"
      ]
     },
     "execution_count": 6,
     "metadata": {},
     "output_type": "execute_result"
    }
   ],
   "source": [
    "f.readlines()"
   ]
  },
  {
   "cell_type": "code",
   "execution_count": 20,
   "metadata": {},
   "outputs": [
    {
     "data": {
      "text/plain": [
       "0"
      ]
     },
     "execution_count": 20,
     "metadata": {},
     "output_type": "execute_result"
    }
   ],
   "source": [
    "f.seek(0)"
   ]
  },
  {
   "cell_type": "code",
   "execution_count": 48,
   "metadata": {},
   "outputs": [
    {
     "name": "stdout",
     "output_type": "stream",
     "text": [
      "! is 6079\n",
      "@ is 6157\n",
      "# is 6115\n",
      "$ is 6046\n",
      "% is 6104\n",
      "^ is 6030\n",
      "& is 6043\n",
      "* is 6034\n",
      "( is 6154\n",
      ") is 6186\n",
      "- is 0\n",
      "+ is 6066\n",
      "= is 0\n",
      "_ is 6112\n",
      "{ is 6046\n",
      "} is 6105\n",
      "[ is 6108\n",
      "] is 6152\n",
      "] is 6152\n",
      "a 1\n",
      "e 1\n",
      "i 1\n",
      "l 1\n",
      "q 1\n",
      "t 1\n",
      "u 1\n",
      "y 1\n",
      "e\n",
      "q\n",
      "u\n",
      "a\n",
      "l\n",
      "i\n",
      "t\n",
      "y\n"
     ]
    }
   ],
   "source": [
    "f.seek(0)\n",
    "count = 0\n",
    "for line in f.readlines():\n",
    "    for word in line:\n",
    "        if word == '!':\n",
    "            count = count + 1\n",
    "\n",
    "print (\"! is\",count)\n",
    "\n",
    "f.seek(0)\n",
    "count = 0\n",
    "for line in f.readlines():\n",
    "    for word in line:\n",
    "        if word == '@':\n",
    "            count = count + 1\n",
    "\n",
    "print (\"@ is\",count)\n",
    "\n",
    "f.seek(0)\n",
    "count = 0\n",
    "for line in f.readlines():\n",
    "    for word in line:\n",
    "        if word == '#':\n",
    "            count = count + 1\n",
    "\n",
    "print (\"# is\",count)\n",
    "\n",
    "f.seek(0)\n",
    "count = 0\n",
    "for line in f.readlines():\n",
    "    for word in line:\n",
    "        if word == '$':\n",
    "            count = count + 1\n",
    "\n",
    "print (\"$ is\",count)\n",
    "\n",
    "f.seek(0)\n",
    "count = 0\n",
    "for line in f.readlines():\n",
    "    for word in line:\n",
    "        if word == '%':\n",
    "            count = count + 1\n",
    "\n",
    "print (\"% is\",count)\n",
    "\n",
    "f.seek(0)\n",
    "count = 0\n",
    "for line in f.readlines():\n",
    "    for word in line:\n",
    "        if word == '^':\n",
    "            count = count + 1\n",
    "\n",
    "print (\"^ is\",count)\n",
    "\n",
    "f.seek(0)\n",
    "count = 0\n",
    "for line in f.readlines():\n",
    "    for word in line:\n",
    "        if word == '&':\n",
    "            count = count + 1\n",
    "\n",
    "print (\"& is\",count)\n",
    "\n",
    "f.seek(0)\n",
    "count = 0\n",
    "for line in f.readlines():\n",
    "    for word in line:\n",
    "        if word == '*':\n",
    "            count = count + 1\n",
    "\n",
    "print (\"* is\",count)\n",
    "\n",
    "f.seek(0)\n",
    "count = 0\n",
    "for line in f.readlines():\n",
    "    for word in line:\n",
    "        if word == '(':\n",
    "            count = count + 1\n",
    "\n",
    "print (\"( is\",count)\n",
    "\n",
    "f.seek(0)\n",
    "count = 0\n",
    "for line in f.readlines():\n",
    "    for word in line:\n",
    "        if word == ')':\n",
    "            count = count + 1\n",
    "\n",
    "print (\") is\",count)\n",
    "\n",
    "f.seek(0)\n",
    "count = 0\n",
    "for line in f.readlines():\n",
    "    for word in line:\n",
    "        if word == '-':\n",
    "            count = count + 1\n",
    "\n",
    "print (\"- is\",count)\n",
    "\n",
    "f.seek(0)\n",
    "count = 0\n",
    "for line in f.readlines():\n",
    "    for word in line:\n",
    "        if word == '+':\n",
    "            count = count + 1\n",
    "\n",
    "print (\"+ is\",count)\n",
    "\n",
    "f.seek(0)\n",
    "count = 0\n",
    "for line in f.readlines():\n",
    "    for word in line:\n",
    "        if word == '=':\n",
    "            count = count + 1\n",
    "\n",
    "print (\"= is\",count)\n",
    "\n",
    "f.seek(0)\n",
    "count = 0\n",
    "for line in f.readlines():\n",
    "    for word in line:\n",
    "        if word == '_':\n",
    "            count = count + 1\n",
    "\n",
    "print (\"_ is\",count)\n",
    "\n",
    "f.seek(0)\n",
    "count = 0\n",
    "for line in f.readlines():\n",
    "    for word in line:\n",
    "        if word == '{':\n",
    "            count = count + 1\n",
    "\n",
    "print (\"{ is\",count)\n",
    "\n",
    "f.seek(0)\n",
    "count = 0\n",
    "for line in f.readlines():\n",
    "    for word in line:\n",
    "        if word == '}':\n",
    "            count = count + 1\n",
    "\n",
    "print (\"} is\",count)\n",
    "\n",
    "f.seek(0)\n",
    "count = 0\n",
    "for line in f.readlines():\n",
    "    for word in line:\n",
    "        if word == '[':\n",
    "            count = count + 1\n",
    "\n",
    "print (\"[ is\",count)\n",
    "\n",
    "f.seek(0)\n",
    "count = 0\n",
    "for line in f.readlines():\n",
    "    for word in line:\n",
    "        if word == ']':\n",
    "            count = count + 1\n",
    "\n",
    "print (\"] is\",count)\n",
    "\n",
    "f.seek(0)\n",
    "count = 0\n",
    "for line in f.readlines():\n",
    "    for word in line:\n",
    "        if word == ']':\n",
    "            count = count + 1\n",
    "\n",
    "print (\"] is\",count)\n",
    "\n",
    "\n",
    "\n",
    "f.seek(0)\n",
    "list = f.readlines()\n",
    "x = 'a'\n",
    "asd = 0\n",
    "while asd < 25:\n",
    "    for line in list:\n",
    "        count = line.count(x)\n",
    "        if count!=0:\n",
    "            print(x, count)\n",
    "    x = chr(ord(x)+1)\n",
    "    asd = asd + 1    \n",
    "\n",
    "for line in list:\n",
    "    for word in line:\n",
    "        if ord(word) >= ord('a') and ord(word) <=ord('z'):\n",
    "            print(word)"
   ]
  },
  {
   "cell_type": "code",
   "execution_count": 46,
   "metadata": {},
   "outputs": [
    {
     "name": "stdout",
     "output_type": "stream",
     "text": [
      "65\n"
     ]
    }
   ],
   "source": [
    "print(ord('A'))"
   ]
  },
  {
   "cell_type": "code",
   "execution_count": 17,
   "metadata": {},
   "outputs": [
    {
     "name": "stdout",
     "output_type": "stream",
     "text": [
      "z\n"
     ]
    }
   ],
   "source": [
    "st = \"aHdVasDccAAAzCCCdAAAAasSgwE\"\n",
    "front = 0\n",
    "rear = 8\n",
    "while rear<len(st):\n",
    "    if not (st[front].isupper()) and not (st[rear].isupper()):\n",
    "        if st[front+1].isupper() and st[rear-1].isupper():\n",
    "            if st[front+2].isupper() and st[rear-2].isupper():\n",
    "                if st[front+3].isupper() and st[rear-3].isupper():\n",
    "                    print(st[front+4])\n",
    "    front = front+ 1\n",
    "    rear = rear + 1"
   ]
  },
  {
   "cell_type": "code",
   "execution_count": 20,
   "metadata": {},
   "outputs": [
    {
     "name": "stdout",
     "output_type": "stream",
     "text": [
      "l\n",
      "i\n",
      "n\n",
      "k\n",
      "e\n",
      "d\n",
      "l\n",
      "i\n",
      "s\n",
      "t\n"
     ]
    }
   ],
   "source": [
    "f = open(\"test.txt\")\n",
    "list = f.readlines()\n",
    "for st in list:\n",
    "    front = 0\n",
    "    rear = 8\n",
    "    while rear<len(st):\n",
    "        if not (st[front].isupper()) and not (st[rear].isupper()):\n",
    "            if st[front+1].isupper() and st[rear-1].isupper():\n",
    "                if st[front+2].isupper() and st[rear-2].isupper():\n",
    "                    if st[front+3].isupper() and st[rear-3].isupper():\n",
    "                        if not (st[front+4].isupper()):\n",
    "                            print(st[front+4])\n",
    "        front = front+ 1\n",
    "        rear = rear + 1"
   ]
  },
  {
   "cell_type": "code",
   "execution_count": 1,
   "metadata": {
    "collapsed": true
   },
   "outputs": [],
   "source": [
    "st = 'Print only the words that start with s in this sentence'\n",
    "list = st.split()"
   ]
  },
  {
   "cell_type": "code",
   "execution_count": 2,
   "metadata": {},
   "outputs": [
    {
     "data": {
      "text/plain": [
       "['Print',\n",
       " 'only',\n",
       " 'the',\n",
       " 'words',\n",
       " 'that',\n",
       " 'start',\n",
       " 'with',\n",
       " 's',\n",
       " 'in',\n",
       " 'this',\n",
       " 'sentence']"
      ]
     },
     "execution_count": 2,
     "metadata": {},
     "output_type": "execute_result"
    }
   ],
   "source": [
    "list"
   ]
  },
  {
   "cell_type": "code",
   "execution_count": 3,
   "metadata": {},
   "outputs": [
    {
     "name": "stdout",
     "output_type": "stream",
     "text": [
      "start\n",
      "s\n",
      "sentence\n"
     ]
    }
   ],
   "source": [
    "for word in list:\n",
    "    if word[0]=='s':\n",
    "        print(word)"
   ]
  },
  {
   "cell_type": "code",
   "execution_count": 4,
   "metadata": {},
   "outputs": [
    {
     "name": "stdout",
     "output_type": "stream",
     "text": [
      "0\n",
      "2\n",
      "4\n",
      "6\n",
      "8\n",
      "10\n"
     ]
    }
   ],
   "source": [
    "for x in range(0,11):\n",
    "    if x%2==0:\n",
    "        print(x)"
   ]
  },
  {
   "cell_type": "code",
   "execution_count": 26,
   "metadata": {
    "collapsed": true
   },
   "outputs": [],
   "source": [
    "lt = [x for x in range(1,51) if x%3==0]\n",
    "        "
   ]
  },
  {
   "cell_type": "code",
   "execution_count": 27,
   "metadata": {},
   "outputs": [
    {
     "data": {
      "text/plain": [
       "[3, 6, 9, 12, 15, 18, 21, 24, 27, 30, 33, 36, 39, 42, 45, 48]"
      ]
     },
     "execution_count": 27,
     "metadata": {},
     "output_type": "execute_result"
    }
   ],
   "source": [
    "lt"
   ]
  },
  {
   "cell_type": "code",
   "execution_count": 19,
   "metadata": {},
   "outputs": [
    {
     "name": "stdout",
     "output_type": "stream",
     "text": [
      "word  is even!\n",
      "in  is even!\n",
      "this  is even!\n",
      "sentence  is even!\n",
      "that  is even!\n",
      "an  is even!\n",
      "even  is even!\n",
      "number  is even!\n",
      "of  is even!\n"
     ]
    }
   ],
   "source": [
    "st = 'Print every word in this sentence that has an even number of letters'\n",
    "list = st.split()\n",
    "for word in list:\n",
    "    if len(word)%2==0:\n",
    "        print (word,\" is even!\")"
   ]
  },
  {
   "cell_type": "code",
   "execution_count": 20,
   "metadata": {},
   "outputs": [
    {
     "name": "stdout",
     "output_type": "stream",
     "text": [
      "1\n",
      "2\n",
      "Fizz\n",
      "4\n",
      "Buzz\n",
      "Fizz\n",
      "7\n",
      "8\n",
      "Fizz\n",
      "Buzz\n",
      "11\n",
      "Fizz\n",
      "13\n",
      "14\n",
      "FizzBuzz\n",
      "16\n",
      "17\n",
      "Fizz\n",
      "19\n",
      "Buzz\n",
      "Fizz\n",
      "22\n",
      "23\n",
      "Fizz\n",
      "Buzz\n",
      "26\n",
      "Fizz\n",
      "28\n",
      "29\n",
      "FizzBuzz\n",
      "31\n",
      "32\n",
      "Fizz\n",
      "34\n",
      "Buzz\n",
      "Fizz\n",
      "37\n",
      "38\n",
      "Fizz\n",
      "Buzz\n",
      "41\n",
      "Fizz\n",
      "43\n",
      "44\n",
      "FizzBuzz\n",
      "46\n",
      "47\n",
      "Fizz\n",
      "49\n",
      "Buzz\n",
      "Fizz\n",
      "52\n",
      "53\n",
      "Fizz\n",
      "Buzz\n",
      "56\n",
      "Fizz\n",
      "58\n",
      "59\n",
      "FizzBuzz\n",
      "61\n",
      "62\n",
      "Fizz\n",
      "64\n",
      "Buzz\n",
      "Fizz\n",
      "67\n",
      "68\n",
      "Fizz\n",
      "Buzz\n",
      "71\n",
      "Fizz\n",
      "73\n",
      "74\n",
      "FizzBuzz\n",
      "76\n",
      "77\n",
      "Fizz\n",
      "79\n",
      "Buzz\n",
      "Fizz\n",
      "82\n",
      "83\n",
      "Fizz\n",
      "Buzz\n",
      "86\n",
      "Fizz\n",
      "88\n",
      "89\n",
      "FizzBuzz\n",
      "91\n",
      "92\n",
      "Fizz\n",
      "94\n",
      "Buzz\n",
      "Fizz\n",
      "97\n",
      "98\n",
      "Fizz\n",
      "Buzz\n"
     ]
    }
   ],
   "source": [
    "for x in range(1,101):\n",
    "    if x%3==0 and x%5!=0:\n",
    "        print(\"Fizz\")\n",
    "    elif x%3!=0 and x%5==0:\n",
    "        print(\"Buzz\")\n",
    "    elif x%3==0 and x%5==0:\n",
    "        print(\"FizzBuzz\")\n",
    "    else:\n",
    "        print(x)"
   ]
  },
  {
   "cell_type": "code",
   "execution_count": 21,
   "metadata": {
    "collapsed": true
   },
   "outputs": [],
   "source": [
    "st = 'Create a list of the first letters of every word in this string'\n",
    "list = st.split()"
   ]
  },
  {
   "cell_type": "code",
   "execution_count": 22,
   "metadata": {
    "collapsed": true
   },
   "outputs": [],
   "source": [
    "lt = [x[0] for x in list]"
   ]
  },
  {
   "cell_type": "code",
   "execution_count": 23,
   "metadata": {},
   "outputs": [
    {
     "data": {
      "text/plain": [
       "['C', 'a', 'l', 'o', 't', 'f', 'l', 'o', 'e', 'w', 'i', 't', 's']"
      ]
     },
     "execution_count": 23,
     "metadata": {},
     "output_type": "execute_result"
    }
   ],
   "source": [
    "lt"
   ]
  },
  {
   "cell_type": "code",
   "execution_count": 1,
   "metadata": {
    "collapsed": true
   },
   "outputs": [],
   "source": [
    "def vol(radius):\n",
    "    return 4/3*3.14*radius**3"
   ]
  },
  {
   "cell_type": "code",
   "execution_count": 2,
   "metadata": {},
   "outputs": [
    {
     "data": {
      "text/plain": [
       "33.49333333333333"
      ]
     },
     "execution_count": 2,
     "metadata": {},
     "output_type": "execute_result"
    }
   ],
   "source": [
    "vol(2)"
   ]
  },
  {
   "cell_type": "code",
   "execution_count": 3,
   "metadata": {
    "collapsed": true
   },
   "outputs": [],
   "source": [
    "def ran_check(num,low,high):\n",
    "    return num in range(low,high)"
   ]
  },
  {
   "cell_type": "code",
   "execution_count": 5,
   "metadata": {},
   "outputs": [
    {
     "data": {
      "text/plain": [
       "True"
      ]
     },
     "execution_count": 5,
     "metadata": {},
     "output_type": "execute_result"
    }
   ],
   "source": [
    "ran_check(1,1def up_low(s):,3)"
   ]
  },
  {
   "cell_type": "code",
   "execution_count": 8,
   "metadata": {
    "collapsed": true
   },
   "outputs": [],
   "source": [
    "def up_low(s):\n",
    "    low = 0\n",
    "    up = 0\n",
    "    for word in s:\n",
    "        if word.isupper():\n",
    "            up+=1\n",
    "        elif word.islower():\n",
    "            low+=1\n",
    "    print(\"No. of Upper case characters : \",up)\n",
    "    print(\"No. of Lower case characters : \",low)\n"
   ]
  },
  {
   "cell_type": "code",
   "execution_count": 9,
   "metadata": {},
   "outputs": [
    {
     "name": "stdout",
     "output_type": "stream",
     "text": [
      "No. of Upper case characters :  4\n",
      "No. of Lower case characters :  33\n"
     ]
    }
   ],
   "source": [
    "st = 'Hello Mr. Rogers, how are you this fine Tuesday?'\n",
    "up_low(st)"
   ]
  },
  {
   "cell_type": "code",
   "execution_count": 10,
   "metadata": {
    "collapsed": true
   },
   "outputs": [],
   "source": [
    "def unique_list(l):\n",
    "    s = set(l)\n",
    "    return list(s)"
   ]
  },
  {
   "cell_type": "code",
   "execution_count": 11,
   "metadata": {},
   "outputs": [
    {
     "data": {
      "text/plain": [
       "[1, 2, 3, 4, 5]"
      ]
     },
     "execution_count": 11,
     "metadata": {},
     "output_type": "execute_result"
    }
   ],
   "source": [
    "lt = [1,1,1,1,2,2,3,3,3,3,4,5]\n",
    "unique_list(lt)"
   ]
  },
  {
   "cell_type": "code",
   "execution_count": 14,
   "metadata": {
    "collapsed": true
   },
   "outputs": [],
   "source": [
    "def multiply(numbers):\n",
    "    result = 1\n",
    "    for number in numbers:\n",
    "        result*=number\n",
    "    return result"
   ]
  },
  {
   "cell_type": "code",
   "execution_count": 15,
   "metadata": {},
   "outputs": [
    {
     "data": {
      "text/plain": [
       "-24"
      ]
     },
     "execution_count": 15,
     "metadata": {},
     "output_type": "execute_result"
    }
   ],
   "source": [
    "multiply([1,2,3,-4])"
   ]
  },
  {
   "cell_type": "code",
   "execution_count": 16,
   "metadata": {
    "collapsed": true
   },
   "outputs": [],
   "source": [
    "def palindrome(s):\n",
    "    copy = s[::-1]\n",
    "    return copy==s"
   ]
  },
  {
   "cell_type": "code",
   "execution_count": 17,
   "metadata": {},
   "outputs": [
    {
     "data": {
      "text/plain": [
       "True"
      ]
     },
     "execution_count": 17,
     "metadata": {},
     "output_type": "execute_result"
    }
   ],
   "source": [
    "palindrome('helleh')"
   ]
  },
  {
   "cell_type": "code",
   "execution_count": 19,
   "metadata": {},
   "outputs": [
    {
     "data": {
      "text/plain": [
       "True"
      ]
     },
     "execution_count": 19,
     "metadata": {},
     "output_type": "execute_result"
    }
   ],
   "source": [
    "palindrome('healblaeh')"
   ]
  },
  {
   "cell_type": "code",
   "execution_count": 35,
   "metadata": {},
   "outputs": [],
   "source": [
    "import string\n",
    "\n",
    "def ispangram(str1, alphabet=string.ascii_lowercase):  \n",
    "    str1.lower()\n",
    "    lt = [word for word in str1 if word in alphabet]\n",
    "    s = set(lt)\n",
    "    return s==set(alphabet)"
   ]
  },
  {
   "cell_type": "code",
   "execution_count": 37,
   "metadata": {},
   "outputs": [
    {
     "data": {
      "text/plain": [
       "True"
      ]
     },
     "execution_count": 37,
     "metadata": {},
     "output_type": "execute_result"
    }
   ],
   "source": [
    "ispangram(\"The quick brown fox jumps over the lazy dog\")"
   ]
  },
  {
   "cell_type": "code",
   "execution_count": null,
   "metadata": {
    "collapsed": true
   },
   "outputs": [],
   "source": []
  }
 ],
 "metadata": {
  "kernelspec": {
   "display_name": "Python 3",
   "language": "python",
   "name": "python3"
  },
  "language_info": {
   "codemirror_mode": {
    "name": "ipython",
    "version": 3
   },
   "file_extension": ".py",
   "mimetype": "text/x-python",
   "name": "python",
   "nbconvert_exporter": "python",
   "pygments_lexer": "ipython3",
   "version": "3.6.3"
  }
 },
 "nbformat": 4,
 "nbformat_minor": 2
}
