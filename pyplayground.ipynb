{
 "cells": [
  {
   "cell_type": "code",
   "execution_count": 1,
   "metadata": {},
   "outputs": [
    {
     "data": {
      "text/plain": [
       "3"
      ]
     },
     "execution_count": 1,
     "metadata": {},
     "output_type": "execute_result"
    }
   ],
   "source": [
    "1+2"
   ]
  },
  {
   "cell_type": "code",
   "execution_count": 1,
   "metadata": {},
   "outputs": [
    {
     "data": {
      "text/plain": [
       "8"
      ]
     },
     "execution_count": 1,
     "metadata": {},
     "output_type": "execute_result"
    }
   ],
   "source": [
    "2**3"
   ]
  },
  {
   "cell_type": "code",
   "execution_count": 2,
   "metadata": {},
   "outputs": [
    {
     "data": {
      "text/plain": [
       "2.0"
      ]
     },
     "execution_count": 2,
     "metadata": {},
     "output_type": "execute_result"
    }
   ],
   "source": [
    "4**0.5\n"
   ]
  },
  {
   "cell_type": "code",
   "execution_count": 3,
   "metadata": {},
   "outputs": [
    {
     "data": {
      "text/plain": [
       "0.30000000000000004"
      ]
     },
     "execution_count": 3,
     "metadata": {},
     "output_type": "execute_result"
    }
   ],
   "source": [
    "0.1+0.2"
   ]
  },
  {
   "cell_type": "code",
   "execution_count": 4,
   "metadata": {},
   "outputs": [
    {
     "data": {
      "text/plain": [
       "5.551115123125783e-17"
      ]
     },
     "execution_count": 4,
     "metadata": {},
     "output_type": "execute_result"
    }
   ],
   "source": [
    "0.1+0.2-0.3"
   ]
  },
  {
   "cell_type": "code",
   "execution_count": 5,
   "metadata": {},
   "outputs": [
    {
     "data": {
      "text/plain": [
       "0.2"
      ]
     },
     "execution_count": 5,
     "metadata": {},
     "output_type": "execute_result"
    }
   ],
   "source": [
    "0.1+0.1"
   ]
  },
  {
   "cell_type": "code",
   "execution_count": 6,
   "metadata": {},
   "outputs": [
    {
     "data": {
      "text/plain": [
       "0.4"
      ]
     },
     "execution_count": 6,
     "metadata": {},
     "output_type": "execute_result"
    }
   ],
   "source": [
    "0.1+0.3"
   ]
  },
  {
   "cell_type": "code",
   "execution_count": 7,
   "metadata": {},
   "outputs": [
    {
     "data": {
      "text/plain": [
       "0.30000000000000004"
      ]
     },
     "execution_count": 7,
     "metadata": {},
     "output_type": "execute_result"
    }
   ],
   "source": [
    "0.1+0.2"
   ]
  },
  {
   "cell_type": "code",
   "execution_count": 8,
   "metadata": {},
   "outputs": [
    {
     "data": {
      "text/plain": [
       "0.30000000000000004"
      ]
     },
     "execution_count": 8,
     "metadata": {},
     "output_type": "execute_result"
    }
   ],
   "source": [
    "0.2+0.1"
   ]
  },
  {
   "cell_type": "code",
   "execution_count": 9,
   "metadata": {},
   "outputs": [
    {
     "data": {
      "text/plain": [
       "0.2"
      ]
     },
     "execution_count": 9,
     "metadata": {},
     "output_type": "execute_result"
    }
   ],
   "source": [
    "0.2"
   ]
  },
  {
   "cell_type": "code",
   "execution_count": 5,
   "metadata": {},
   "outputs": [
    {
     "name": "stdout",
     "output_type": "stream",
     "text": [
      "the string is 1.21\n"
     ]
    }
   ],
   "source": [
    "asd = 1.213123\n",
    "xxx = \"xxx\"\n",
    "print ('the string is {0:1.2f}'.format(asd))"
   ]
  },
  {
   "cell_type": "code",
   "execution_count": 12,
   "metadata": {},
   "outputs": [
    {
     "name": "stdout",
     "output_type": "stream",
     "text": [
      "asasd 123\n"
     ]
    }
   ],
   "source": [
    "print(\"asasd {0}\".format(\"123\"))"
   ]
  },
  {
   "cell_type": "code",
   "execution_count": 9,
   "metadata": {
    "collapsed": true
   },
   "outputs": [],
   "source": [
    "my_list = [0,2,4,7,99]"
   ]
  },
  {
   "cell_type": "code",
   "execution_count": 10,
   "metadata": {
    "collapsed": true
   },
   "outputs": [],
   "source": [
    "my_list.sort()"
   ]
  },
  {
   "cell_type": "code",
   "execution_count": 11,
   "metadata": {},
   "outputs": [
    {
     "data": {
      "text/plain": [
       "[0, 2, 4, 7, 99]"
      ]
     },
     "execution_count": 11,
     "metadata": {},
     "output_type": "execute_result"
    }
   ],
   "source": [
    "my_list"
   ]
  },
  {
   "cell_type": "code",
   "execution_count": 1,
   "metadata": {},
   "outputs": [
    {
     "data": {
      "text/plain": [
       "'C:\\\\Users\\\\ny'"
      ]
     },
     "execution_count": 1,
     "metadata": {},
     "output_type": "execute_result"
    }
   ],
   "source": [
    "pwd"
   ]
  },
  {
   "cell_type": "code",
   "execution_count": 2,
   "metadata": {
    "collapsed": true
   },
   "outputs": [],
   "source": [
    "f = open('test.txt')"
   ]
  },
  {
   "cell_type": "code",
   "execution_count": 3,
   "metadata": {},
   "outputs": [
    {
     "data": {
      "text/plain": [
       "<_io.TextIOWrapper name='test.txt' mode='r' encoding='cp1252'>"
      ]
     },
     "execution_count": 3,
     "metadata": {},
     "output_type": "execute_result"
    }
   ],
   "source": [
    "f"
   ]
  },
  {
   "cell_type": "code",
   "execution_count": 6,
   "metadata": {},
   "outputs": [
    {
     "data": {
      "text/plain": [
       "[]"
      ]
     },
     "execution_count": 6,
     "metadata": {},
     "output_type": "execute_result"
    }
   ],
   "source": [
    "f.readlines()"
   ]
  },
  {
   "cell_type": "code",
   "execution_count": 20,
   "metadata": {},
   "outputs": [
    {
     "data": {
      "text/plain": [
       "0"
      ]
     },
     "execution_count": 20,
     "metadata": {},
     "output_type": "execute_result"
    }
   ],
   "source": [
    "f.seek(0)"
   ]
  },
  {
   "cell_type": "code",
   "execution_count": 48,
   "metadata": {},
   "outputs": [
    {
     "name": "stdout",
     "output_type": "stream",
     "text": [
      "! is 6079\n",
      "@ is 6157\n",
      "# is 6115\n",
      "$ is 6046\n",
      "% is 6104\n",
      "^ is 6030\n",
      "& is 6043\n",
      "* is 6034\n",
      "( is 6154\n",
      ") is 6186\n",
      "- is 0\n",
      "+ is 6066\n",
      "= is 0\n",
      "_ is 6112\n",
      "{ is 6046\n",
      "} is 6105\n",
      "[ is 6108\n",
      "] is 6152\n",
      "] is 6152\n",
      "a 1\n",
      "e 1\n",
      "i 1\n",
      "l 1\n",
      "q 1\n",
      "t 1\n",
      "u 1\n",
      "y 1\n",
      "e\n",
      "q\n",
      "u\n",
      "a\n",
      "l\n",
      "i\n",
      "t\n",
      "y\n"
     ]
    }
   ],
   "source": [
    "f.seek(0)\n",
    "count = 0\n",
    "for line in f.readlines():\n",
    "    for word in line:\n",
    "        if word == '!':\n",
    "            count = count + 1\n",
    "\n",
    "print (\"! is\",count)\n",
    "\n",
    "f.seek(0)\n",
    "count = 0\n",
    "for line in f.readlines():\n",
    "    for word in line:\n",
    "        if word == '@':\n",
    "            count = count + 1\n",
    "\n",
    "print (\"@ is\",count)\n",
    "\n",
    "f.seek(0)\n",
    "count = 0\n",
    "for line in f.readlines():\n",
    "    for word in line:\n",
    "        if word == '#':\n",
    "            count = count + 1\n",
    "\n",
    "print (\"# is\",count)\n",
    "\n",
    "f.seek(0)\n",
    "count = 0\n",
    "for line in f.readlines():\n",
    "    for word in line:\n",
    "        if word == '$':\n",
    "            count = count + 1\n",
    "\n",
    "print (\"$ is\",count)\n",
    "\n",
    "f.seek(0)\n",
    "count = 0\n",
    "for line in f.readlines():\n",
    "    for word in line:\n",
    "        if word == '%':\n",
    "            count = count + 1\n",
    "\n",
    "print (\"% is\",count)\n",
    "\n",
    "f.seek(0)\n",
    "count = 0\n",
    "for line in f.readlines():\n",
    "    for word in line:\n",
    "        if word == '^':\n",
    "            count = count + 1\n",
    "\n",
    "print (\"^ is\",count)\n",
    "\n",
    "f.seek(0)\n",
    "count = 0\n",
    "for line in f.readlines():\n",
    "    for word in line:\n",
    "        if word == '&':\n",
    "            count = count + 1\n",
    "\n",
    "print (\"& is\",count)\n",
    "\n",
    "f.seek(0)\n",
    "count = 0\n",
    "for line in f.readlines():\n",
    "    for word in line:\n",
    "        if word == '*':\n",
    "            count = count + 1\n",
    "\n",
    "print (\"* is\",count)\n",
    "\n",
    "f.seek(0)\n",
    "count = 0\n",
    "for line in f.readlines():\n",
    "    for word in line:\n",
    "        if word == '(':\n",
    "            count = count + 1\n",
    "\n",
    "print (\"( is\",count)\n",
    "\n",
    "f.seek(0)\n",
    "count = 0\n",
    "for line in f.readlines():\n",
    "    for word in line:\n",
    "        if word == ')':\n",
    "            count = count + 1\n",
    "\n",
    "print (\") is\",count)\n",
    "\n",
    "f.seek(0)\n",
    "count = 0\n",
    "for line in f.readlines():\n",
    "    for word in line:\n",
    "        if word == '-':\n",
    "            count = count + 1\n",
    "\n",
    "print (\"- is\",count)\n",
    "\n",
    "f.seek(0)\n",
    "count = 0\n",
    "for line in f.readlines():\n",
    "    for word in line:\n",
    "        if word == '+':\n",
    "            count = count + 1\n",
    "\n",
    "print (\"+ is\",count)\n",
    "\n",
    "f.seek(0)\n",
    "count = 0\n",
    "for line in f.readlines():\n",
    "    for word in line:\n",
    "        if word == '=':\n",
    "            count = count + 1\n",
    "\n",
    "print (\"= is\",count)\n",
    "\n",
    "f.seek(0)\n",
    "count = 0\n",
    "for line in f.readlines():\n",
    "    for word in line:\n",
    "        if word == '_':\n",
    "            count = count + 1\n",
    "\n",
    "print (\"_ is\",count)\n",
    "\n",
    "f.seek(0)\n",
    "count = 0\n",
    "for line in f.readlines():\n",
    "    for word in line:\n",
    "        if word == '{':\n",
    "            count = count + 1\n",
    "\n",
    "print (\"{ is\",count)\n",
    "\n",
    "f.seek(0)\n",
    "count = 0\n",
    "for line in f.readlines():\n",
    "    for word in line:\n",
    "        if word == '}':\n",
    "            count = count + 1\n",
    "\n",
    "print (\"} is\",count)\n",
    "\n",
    "f.seek(0)\n",
    "count = 0\n",
    "for line in f.readlines():\n",
    "    for word in line:\n",
    "        if word == '[':\n",
    "            count = count + 1\n",
    "\n",
    "print (\"[ is\",count)\n",
    "\n",
    "f.seek(0)\n",
    "count = 0\n",
    "for line in f.readlines():\n",
    "    for word in line:\n",
    "        if word == ']':\n",
    "            count = count + 1\n",
    "\n",
    "print (\"] is\",count)\n",
    "\n",
    "f.seek(0)\n",
    "count = 0\n",
    "for line in f.readlines():\n",
    "    for word in line:\n",
    "        if word == ']':\n",
    "            count = count + 1\n",
    "\n",
    "print (\"] is\",count)\n",
    "\n",
    "\n",
    "\n",
    "f.seek(0)\n",
    "list = f.readlines()\n",
    "x = 'a'\n",
    "asd = 0\n",
    "while asd < 25:\n",
    "    for line in list:\n",
    "        count = line.count(x)\n",
    "        if count!=0:\n",
    "            print(x, count)\n",
    "    x = chr(ord(x)+1)\n",
    "    asd = asd + 1    \n",
    "\n",
    "for line in list:\n",
    "    for word in line:\n",
    "        if ord(word) >= ord('a') and ord(word) <=ord('z'):\n",
    "            print(word)"
   ]
  },
  {
   "cell_type": "code",
   "execution_count": 46,
   "metadata": {},
   "outputs": [
    {
     "name": "stdout",
     "output_type": "stream",
     "text": [
      "65\n"
     ]
    }
   ],
   "source": [
    "print(ord('A'))"
   ]
  },
  {
   "cell_type": "code",
   "execution_count": 17,
   "metadata": {},
   "outputs": [
    {
     "name": "stdout",
     "output_type": "stream",
     "text": [
      "z\n"
     ]
    }
   ],
   "source": [
    "st = \"aHdVasDccAAAzCCCdAAAAasSgwE\"\n",
    "front = 0\n",
    "rear = 8\n",
    "while rear<len(st):\n",
    "    if not (st[front].isupper()) and not (st[rear].isupper()):\n",
    "        if st[front+1].isupper() and st[rear-1].isupper():\n",
    "            if st[front+2].isupper() and st[rear-2].isupper():\n",
    "                if st[front+3].isupper() and st[rear-3].isupper():\n",
    "                    print(st[front+4])\n",
    "    front = front+ 1\n",
    "    rear = rear + 1"
   ]
  },
  {
   "cell_type": "code",
   "execution_count": 20,
   "metadata": {},
   "outputs": [
    {
     "name": "stdout",
     "output_type": "stream",
     "text": [
      "l\n",
      "i\n",
      "n\n",
      "k\n",
      "e\n",
      "d\n",
      "l\n",
      "i\n",
      "s\n",
      "t\n"
     ]
    }
   ],
   "source": [
    "f = open(\"test.txt\")\n",
    "list = f.readlines()\n",
    "for st in list:\n",
    "    front = 0\n",
    "    rear = 8\n",
    "    while rear<len(st):\n",
    "        if not (st[front].isupper()) and not (st[rear].isupper()):\n",
    "            if st[front+1].isupper() and st[rear-1].isupper():\n",
    "                if st[front+2].isupper() and st[rear-2].isupper():\n",
    "                    if st[front+3].isupper() and st[rear-3].isupper():\n",
    "                        if not (st[front+4].isupper()):\n",
    "                            print(st[front+4])\n",
    "        front = front+ 1\n",
    "        rear = rear + 1"
   ]
  },
  {
   "cell_type": "code",
   "execution_count": 1,
   "metadata": {
    "collapsed": true
   },
   "outputs": [],
   "source": [
    "st = 'Print only the words that start with s in this sentence'\n",
    "list = st.split()"
   ]
  },
  {
   "cell_type": "code",
   "execution_count": 2,
   "metadata": {},
   "outputs": [
    {
     "data": {
      "text/plain": [
       "['Print',\n",
       " 'only',\n",
       " 'the',\n",
       " 'words',\n",
       " 'that',\n",
       " 'start',\n",
       " 'with',\n",
       " 's',\n",
       " 'in',\n",
       " 'this',\n",
       " 'sentence']"
      ]
     },
     "execution_count": 2,
     "metadata": {},
     "output_type": "execute_result"
    }
   ],
   "source": [
    "list"
   ]
  },
  {
   "cell_type": "code",
   "execution_count": 3,
   "metadata": {},
   "outputs": [
    {
     "name": "stdout",
     "output_type": "stream",
     "text": [
      "start\n",
      "s\n",
      "sentence\n"
     ]
    }
   ],
   "source": [
    "for word in list:\n",
    "    if word[0]=='s':\n",
    "        print(word)"
   ]
  },
  {
   "cell_type": "code",
   "execution_count": 4,
   "metadata": {},
   "outputs": [
    {
     "name": "stdout",
     "output_type": "stream",
     "text": [
      "0\n",
      "2\n",
      "4\n",
      "6\n",
      "8\n",
      "10\n"
     ]
    }
   ],
   "source": [
    "for x in range(0,11):\n",
    "    if x%2==0:\n",
    "        print(x)"
   ]
  },
  {
   "cell_type": "code",
   "execution_count": 26,
   "metadata": {
    "collapsed": true
   },
   "outputs": [],
   "source": [
    "lt = [x for x in range(1,51) if x%3==0]\n",
    "        "
   ]
  },
  {
   "cell_type": "code",
   "execution_count": 27,
   "metadata": {},
   "outputs": [
    {
     "data": {
      "text/plain": [
       "[3, 6, 9, 12, 15, 18, 21, 24, 27, 30, 33, 36, 39, 42, 45, 48]"
      ]
     },
     "execution_count": 27,
     "metadata": {},
     "output_type": "execute_result"
    }
   ],
   "source": [
    "lt"
   ]
  },
  {
   "cell_type": "code",
   "execution_count": 19,
   "metadata": {},
   "outputs": [
    {
     "name": "stdout",
     "output_type": "stream",
     "text": [
      "word  is even!\n",
      "in  is even!\n",
      "this  is even!\n",
      "sentence  is even!\n",
      "that  is even!\n",
      "an  is even!\n",
      "even  is even!\n",
      "number  is even!\n",
      "of  is even!\n"
     ]
    }
   ],
   "source": [
    "st = 'Print every word in this sentence that has an even number of letters'\n",
    "list = st.split()\n",
    "for word in list:\n",
    "    if len(word)%2==0:\n",
    "        print (word,\" is even!\")"
   ]
  },
  {
   "cell_type": "code",
   "execution_count": 20,
   "metadata": {},
   "outputs": [
    {
     "name": "stdout",
     "output_type": "stream",
     "text": [
      "1\n",
      "2\n",
      "Fizz\n",
      "4\n",
      "Buzz\n",
      "Fizz\n",
      "7\n",
      "8\n",
      "Fizz\n",
      "Buzz\n",
      "11\n",
      "Fizz\n",
      "13\n",
      "14\n",
      "FizzBuzz\n",
      "16\n",
      "17\n",
      "Fizz\n",
      "19\n",
      "Buzz\n",
      "Fizz\n",
      "22\n",
      "23\n",
      "Fizz\n",
      "Buzz\n",
      "26\n",
      "Fizz\n",
      "28\n",
      "29\n",
      "FizzBuzz\n",
      "31\n",
      "32\n",
      "Fizz\n",
      "34\n",
      "Buzz\n",
      "Fizz\n",
      "37\n",
      "38\n",
      "Fizz\n",
      "Buzz\n",
      "41\n",
      "Fizz\n",
      "43\n",
      "44\n",
      "FizzBuzz\n",
      "46\n",
      "47\n",
      "Fizz\n",
      "49\n",
      "Buzz\n",
      "Fizz\n",
      "52\n",
      "53\n",
      "Fizz\n",
      "Buzz\n",
      "56\n",
      "Fizz\n",
      "58\n",
      "59\n",
      "FizzBuzz\n",
      "61\n",
      "62\n",
      "Fizz\n",
      "64\n",
      "Buzz\n",
      "Fizz\n",
      "67\n",
      "68\n",
      "Fizz\n",
      "Buzz\n",
      "71\n",
      "Fizz\n",
      "73\n",
      "74\n",
      "FizzBuzz\n",
      "76\n",
      "77\n",
      "Fizz\n",
      "79\n",
      "Buzz\n",
      "Fizz\n",
      "82\n",
      "83\n",
      "Fizz\n",
      "Buzz\n",
      "86\n",
      "Fizz\n",
      "88\n",
      "89\n",
      "FizzBuzz\n",
      "91\n",
      "92\n",
      "Fizz\n",
      "94\n",
      "Buzz\n",
      "Fizz\n",
      "97\n",
      "98\n",
      "Fizz\n",
      "Buzz\n"
     ]
    }
   ],
   "source": [
    "for x in range(1,101):\n",
    "    if x%3==0 and x%5!=0:\n",
    "        print(\"Fizz\")\n",
    "    elif x%3!=0 and x%5==0:\n",
    "        print(\"Buzz\")\n",
    "    elif x%3==0 and x%5==0:\n",
    "        print(\"FizzBuzz\")\n",
    "    else:\n",
    "        print(x)"
   ]
  },
  {
   "cell_type": "code",
   "execution_count": 21,
   "metadata": {
    "collapsed": true
   },
   "outputs": [],
   "source": [
    "st = 'Create a list of the first letters of every word in this string'\n",
    "list = st.split()"
   ]
  },
  {
   "cell_type": "code",
   "execution_count": 22,
   "metadata": {
    "collapsed": true
   },
   "outputs": [],
   "source": [
    "lt = [x[0] for x in list]"
   ]
  },
  {
   "cell_type": "code",
   "execution_count": 23,
   "metadata": {},
   "outputs": [
    {
     "data": {
      "text/plain": [
       "['C', 'a', 'l', 'o', 't', 'f', 'l', 'o', 'e', 'w', 'i', 't', 's']"
      ]
     },
     "execution_count": 23,
     "metadata": {},
     "output_type": "execute_result"
    }
   ],
   "source": [
    "lt"
   ]
  },
  {
   "cell_type": "code",
   "execution_count": 1,
   "metadata": {
    "collapsed": true
   },
   "outputs": [],
   "source": [
    "def vol(radius):\n",
    "    return 4/3*3.14*radius**3"
   ]
  },
  {
   "cell_type": "code",
   "execution_count": 2,
   "metadata": {},
   "outputs": [
    {
     "data": {
      "text/plain": [
       "33.49333333333333"
      ]
     },
     "execution_count": 2,
     "metadata": {},
     "output_type": "execute_result"
    }
   ],
   "source": [
    "vol(2)"
   ]
  },
  {
   "cell_type": "code",
   "execution_count": 3,
   "metadata": {
    "collapsed": true
   },
   "outputs": [],
   "source": [
    "def ran_check(num,low,high):\n",
    "    return num in range(low,high)"
   ]
  },
  {
   "cell_type": "code",
   "execution_count": 5,
   "metadata": {},
   "outputs": [
    {
     "data": {
      "text/plain": [
       "True"
      ]
     },
     "execution_count": 5,
     "metadata": {},
     "output_type": "execute_result"
    }
   ],
   "source": [
    "ran_check(1,1def up_low(s):,3)"
   ]
  },
  {
   "cell_type": "code",
   "execution_count": 8,
   "metadata": {
    "collapsed": true
   },
   "outputs": [],
   "source": [
    "def up_low(s):\n",
    "    low = 0\n",
    "    up = 0\n",
    "    for word in s:\n",
    "        if word.isupper():\n",
    "            up+=1\n",
    "        elif word.islower():\n",
    "            low+=1\n",
    "    print(\"No. of Upper case characters : \",up)\n",
    "    print(\"No. of Lower case characters : \",low)\n"
   ]
  },
  {
   "cell_type": "code",
   "execution_count": 9,
   "metadata": {},
   "outputs": [
    {
     "name": "stdout",
     "output_type": "stream",
     "text": [
      "No. of Upper case characters :  4\n",
      "No. of Lower case characters :  33\n"
     ]
    }
   ],
   "source": [
    "st = 'Hello Mr. Rogers, how are you this fine Tuesday?'\n",
    "up_low(st)"
   ]
  },
  {
   "cell_type": "code",
   "execution_count": 10,
   "metadata": {
    "collapsed": true
   },
   "outputs": [],
   "source": [
    "def unique_list(l):\n",
    "    s = set(l)\n",
    "    return list(s)"
   ]
  },
  {
   "cell_type": "code",
   "execution_count": 11,
   "metadata": {},
   "outputs": [
    {
     "data": {
      "text/plain": [
       "[1, 2, 3, 4, 5]"
      ]
     },
     "execution_count": 11,
     "metadata": {},
     "output_type": "execute_result"
    }
   ],
   "source": [
    "lt = [1,1,1,1,2,2,3,3,3,3,4,5]\n",
    "unique_list(lt)"
   ]
  },
  {
   "cell_type": "code",
   "execution_count": 14,
   "metadata": {
    "collapsed": true
   },
   "outputs": [],
   "source": [
    "def multiply(numbers):\n",
    "    result = 1\n",
    "    for number in numbers:\n",
    "        result*=number\n",
    "    return result"
   ]
  },
  {
   "cell_type": "code",
   "execution_count": 15,
   "metadata": {},
   "outputs": [
    {
     "data": {
      "text/plain": [
       "-24"
      ]
     },
     "execution_count": 15,
     "metadata": {},
     "output_type": "execute_result"
    }
   ],
   "source": [
    "multiply([1,2,3,-4])"
   ]
  },
  {
   "cell_type": "code",
   "execution_count": 16,
   "metadata": {
    "collapsed": true
   },
   "outputs": [],
   "source": [
    "def palindrome(s):\n",
    "    copy = s[::-1]\n",
    "    return copy==s"
   ]
  },
  {
   "cell_type": "code",
   "execution_count": 17,
   "metadata": {},
   "outputs": [
    {
     "data": {
      "text/plain": [
       "True"
      ]
     },
     "execution_count": 17,
     "metadata": {},
     "output_type": "execute_result"
    }
   ],
   "source": [
    "palindrome('helleh')"
   ]
  },
  {
   "cell_type": "code",
   "execution_count": 19,
   "metadata": {},
   "outputs": [
    {
     "data": {
      "text/plain": [
       "True"
      ]
     },
     "execution_count": 19,
     "metadata": {},
     "output_type": "execute_result"
    }
   ],
   "source": [
    "palindrome('healblaeh')"
   ]
  },
  {
   "cell_type": "code",
   "execution_count": 35,
   "metadata": {
    "collapsed": true
   },
   "outputs": [],
   "source": [
    "import string\n",
    "\n",
    "def ispangram(str1, alphabet=string.ascii_lowercase):  \n",
    "    str1.lower()\n",
    "    lt = [word for word in str1 if word in alphabet]\n",
    "    s = set(lt)\n",
    "    return s==set(alphabet)"
   ]
  },
  {
   "cell_type": "code",
   "execution_count": 37,
   "metadata": {},
   "outputs": [
    {
     "data": {
      "text/plain": [
       "True"
      ]
     },
     "execution_count": 37,
     "metadata": {},
     "output_type": "execute_result"
    }
   ],
   "source": [
    "ispangram(\"The quick brown fox jumps over the lazy dog\")"
   ]
  },
  {
   "cell_type": "code",
   "execution_count": 51,
   "metadata": {
    "collapsed": true
   },
   "outputs": [],
   "source": [
    "class Dog(object):\n",
    "    fur = True\n",
    "    def __init__(self,name):\n",
    "        self.name = name\n",
    "    def bark(self):\n",
    "        print(self.name,\"!\")\n",
    "    def hasFur(self):\n",
    "        print(Dog.fur)\n",
    "    \n",
    "    def __str__(self):\n",
    "        return \"name is {x}\".format(x=self.name)\n",
    "        "
   ]
  },
  {
   "cell_type": "code",
   "execution_count": 52,
   "metadata": {
    "collapsed": true
   },
   "outputs": [],
   "source": [
    "d1 = Dog(name=\"pika\")"
   ]
  },
  {
   "cell_type": "code",
   "execution_count": 53,
   "metadata": {},
   "outputs": [
    {
     "data": {
      "text/plain": [
       "<__main__.Dog at 0x1d926bdba20>"
      ]
     },
     "execution_count": 53,
     "metadata": {},
     "output_type": "execute_result"
    }
   ],
   "source": [
    "d1"
   ]
  },
  {
   "cell_type": "code",
   "execution_count": 54,
   "metadata": {},
   "outputs": [
    {
     "data": {
      "text/plain": [
       "'pika'"
      ]
     },
     "execution_count": 54,
     "metadata": {},
     "output_type": "execute_result"
    }
   ],
   "source": [
    "d1.name"
   ]
  },
  {
   "cell_type": "code",
   "execution_count": 55,
   "metadata": {},
   "outputs": [
    {
     "name": "stdout",
     "output_type": "stream",
     "text": [
      "pika !\n"
     ]
    }
   ],
   "source": [
    "d1.bark()"
   ]
  },
  {
   "cell_type": "code",
   "execution_count": 56,
   "metadata": {},
   "outputs": [
    {
     "name": "stdout",
     "output_type": "stream",
     "text": [
      "True\n"
     ]
    }
   ],
   "source": [
    "d1.hasFur()"
   ]
  },
  {
   "cell_type": "code",
   "execution_count": 57,
   "metadata": {},
   "outputs": [
    {
     "name": "stdout",
     "output_type": "stream",
     "text": [
      "name is pika\n"
     ]
    }
   ],
   "source": [
    "print(d1)"
   ]
  },
  {
   "cell_type": "code",
   "execution_count": 64,
   "metadata": {
    "collapsed": true
   },
   "outputs": [],
   "source": [
    "class Line(object):\n",
    "    def __init__(self,coor1,coor2):\n",
    "        self.coor1 = coor1\n",
    "        self.coor2 = coor2\n",
    "        \n",
    "    def distance(self):\n",
    "        return ((self.coor1[0]-self.coor2[0])**2 + (self.coor1[1]-self.coor2[1])**2)**0.5\n",
    "        \n",
    "    def slope(self):\n",
    "        return (self.coor1[1]-self.coor2[1])/(self.coor1[0]-self.coor2[0])\n",
    "    "
   ]
  },
  {
   "cell_type": "code",
   "execution_count": 65,
   "metadata": {
    "collapsed": true
   },
   "outputs": [],
   "source": [
    "coordinate1 = (3,2)\n",
    "coordinate2 = (8,10)\n",
    "\n",
    "li = Line(coordinate1,coordinate2)\n",
    "\n"
   ]
  },
  {
   "cell_type": "code",
   "execution_count": 66,
   "metadata": {},
   "outputs": [
    {
     "data": {
      "text/plain": [
       "9.433981132056603"
      ]
     },
     "execution_count": 66,
     "metadata": {},
     "output_type": "execute_result"
    }
   ],
   "source": [
    "li.distance()"
   ]
  },
  {
   "cell_type": "code",
   "execution_count": 67,
   "metadata": {},
   "outputs": [
    {
     "data": {
      "text/plain": [
       "1.6"
      ]
     },
     "execution_count": 67,
     "metadata": {},
     "output_type": "execute_result"
    }
   ],
   "source": [
    "li.slope()"
   ]
  },
  {
   "cell_type": "code",
   "execution_count": 68,
   "metadata": {
    "collapsed": true
   },
   "outputs": [],
   "source": [
    "class Cylinder(object):\n",
    "    \n",
    "    def __init__(self,height=1,radius=1):\n",
    "        self.height = height\n",
    "        self.radius = radius\n",
    "    \n",
    "    def volume(self):\n",
    "        return 3.14*self.radius**2*self.height\n",
    "        \n",
    "    def surface_area(self):\n",
    "        return 2*3.14*self.radius**2+2*3.14*self.radius*self.height"
   ]
  },
  {
   "cell_type": "code",
   "execution_count": 69,
   "metadata": {
    "collapsed": true
   },
   "outputs": [],
   "source": [
    "c = Cylinder(2,3)"
   ]
  },
  {
   "cell_type": "code",
   "execution_count": 70,
   "metadata": {},
   "outputs": [
    {
     "data": {
      "text/plain": [
       "56.52"
      ]
     },
     "execution_count": 70,
     "metadata": {},
     "output_type": "execute_result"
    }
   ],
   "source": [
    "c.volume()"
   ]
  },
  {
   "cell_type": "code",
   "execution_count": 71,
   "metadata": {},
   "outputs": [
    {
     "data": {
      "text/plain": [
       "94.2"
      ]
     },
     "execution_count": 71,
     "metadata": {},
     "output_type": "execute_result"
    }
   ],
   "source": [
    "c.surface_area()"
   ]
  },
  {
   "cell_type": "code",
   "execution_count": 44,
   "metadata": {},
   "outputs": [
    {
     "name": "stdout",
     "output_type": "stream",
     "text": [
      "b'and the next nothing is 53548'  count: 0\n",
      "b'and the next nothing is 66081'  count: 1\n",
      "b'and the next nothing is 67753'  count: 2\n",
      "b'and the next nothing is 56337'  count: 3\n",
      "b'and the next nothing is 3356'  count: 4\n",
      "b'and the next nothing is 94525'  count: 5\n",
      "b'and the next nothing is 89574'  count: 6\n",
      "b'and the next nothing is 4413'  count: 7\n",
      "b'and the next nothing is 82294'  count: 8\n",
      "b'and the next nothing is 56060'  count: 9\n",
      "b'and the next nothing is 95493'  count: 10\n",
      "b'and the next nothing is 80865'  count: 11\n",
      "b'and the next nothing is 66242'  count: 12\n",
      "b'and the next nothing is 16065'  count: 13\n",
      "b'and the next nothing is 62145'  count: 14\n",
      "b'and the next nothing is 23147'  count: 15\n",
      "b'and the next nothing is 83763'  count: 16\n",
      "b'and the next nothing is 62381'  count: 17\n",
      "b'and the next nothing is 76841'  count: 18\n",
      "b'and the next nothing is 91706'  count: 19\n",
      "b'and the next nothing is 9268'  count: 20\n",
      "b'and the next nothing is 64814'  count: 21\n",
      "b'and the next nothing is 80809'  count: 22\n",
      "b'and the next nothing is 14039'  count: 23\n",
      "b'and the next nothing is 73355'  count: 24\n",
      "b'and the next nothing is 81905'  count: 25\n",
      "b'and the next nothing is 36402'  count: 26\n",
      "b'and the next nothing is 27221'  count: 27\n",
      "b'and the next nothing is 79607'  count: 28\n",
      "b'and the next nothing is 91763'  count: 29\n",
      "b'and the next nothing is 11631'  count: 30\n",
      "b'and the next nothing is 76396'  count: 31\n",
      "b'and the next nothing is 69905'  count: 32\n",
      "b'and the next nothing is 11073'  count: 33\n",
      "b'and the next nothing is 71281'  count: 34\n",
      "b'and the next nothing is 54345'  count: 35\n",
      "b'and the next nothing is 19047'  count: 36\n",
      "b'and the next nothing is 34376'  count: 37\n",
      "b'and the next nothing is 3193'  count: 38\n",
      "b'and the next nothing is 74258'  count: 39\n",
      "b'and the next nothing is 62712'  count: 40\n",
      "b'and the next nothing is 1823'  count: 41\n",
      "b'and the next nothing is 21232'  count: 42\n",
      "b'and the next nothing is 87890'  count: 43\n",
      "b'and the next nothing is 21545'  count: 44\n",
      "b'and the next nothing is 37136'  count: 45\n",
      "b'and the next nothing is 23060'  count: 46\n",
      "b'and the next nothing is 5385'  count: 47\n",
      "b'and the next nothing is 4620'  count: 48\n",
      "b'and the next nothing is 39111'  count: 49\n",
      "b'and the next nothing is 35914'  count: 50\n",
      "b'and the next nothing is 60310'  count: 51\n",
      "b'and the next nothing is 19178'  count: 52\n",
      "b'and the next nothing is 44671'  count: 53\n",
      "b'and the next nothing is 45736'  count: 54\n",
      "b'and the next nothing is 9216'  count: 55\n",
      "b'and the next nothing is 12585'  count: 56\n",
      "b'and the next nothing is 11302'  count: 57\n",
      "b'and the next nothing is 33096'  count: 58\n",
      "b'and the next nothing is 13967'  count: 59\n",
      "b'and the next nothing is 57004'  count: 60\n",
      "b'and the next nothing is 64196'  count: 61\n",
      "b'and the next nothing is 73929'  count: 62\n",
      "b'and the next nothing is 24800'  count: 63\n",
      "b'and the next nothing is 25081'  count: 64\n",
      "b'and the next nothing is 90033'  count: 65\n",
      "b'and the next nothing is 45919'  count: 66\n",
      "b'and the next nothing is 54827'  count: 67\n",
      "b'and the next nothing is 73950'  count: 68\n",
      "b'and the next nothing is 56978'  count: 69\n",
      "b'and the next nothing is 8133'  count: 70\n",
      "b'and the next nothing is 61900'  count: 71\n",
      "b'and the next nothing is 47769'  count: 72\n",
      "b'and the next nothing is 631'  count: 73\n",
      "b'and the next nothing is 2284'  count: 74\n",
      "b'and the next nothing is 60074'  count: 75\n",
      "b'and the next nothing is 35959'  count: 76\n",
      "b'and the next nothing is 57158'  count: 77\n",
      "b'and the next nothing is 90990'  count: 78\n",
      "b'and the next nothing is 27935'  count: 79\n",
      "b'and the next nothing is 99927'  count: 80\n",
      "b'and the next nothing is 41785'  count: 81\n",
      "b'and the next nothing is 32660'  count: 82\n",
      "b'and the next nothing is 4328'  count: 83\n",
      "b'and the next nothing is 42067'  count: 84\n",
      "b'and the next nothing is 8743'  count: 85\n",
      "b'and the next nothing is 38613'  count: 86\n",
      "b'and the next nothing is 21100'  count: 87\n",
      "b'and the next nothing is 77864'  count: 88\n",
      "b'and the next nothing is 6523'  count: 89\n",
      "b'and the next nothing is 6927'  count: 90\n",
      "b'and the next nothing is 82930'  count: 91\n",
      "b'and the next nothing is 35846'  count: 92\n",
      "b'and the next nothing is 31785'  count: 93\n",
      "b'and the next nothing is 41846'  count: 94\n",
      "b'and the next nothing is 72387'  count: 95\n",
      "b'and the next nothing is 59334'  count: 96\n",
      "b'and the next nothing is 65520'  count: 97\n",
      "b'and the next nothing is 93781'  count: 98\n",
      "b'and the next nothing is 55840'  count: 99\n",
      "b'and the next nothing is 80842'  count: 100\n",
      "b'and the next nothing is 59022'  count: 101\n",
      "b'and the next nothing is 23298'  count: 102\n",
      "b'and the next nothing is 27709'  count: 103\n",
      "b'and the next nothing is 96791'  count: 104\n",
      "b'and the next nothing is 75635'  count: 105\n",
      "b'and the next nothing is 52899'  count: 106\n",
      "b'and the next nothing is 66831'  count: 107\n",
      "b'peak.html'  count: 108\n",
      "b'and the next nothing is 72758'  count: 109\n",
      "b'and the next nothing is 71301'  count: 110\n",
      "b'and the next nothing is 55577'  count: 111\n",
      "b'and the next nothing is 88786'  count: 112\n",
      "b'and the next nothing is 32293'  count: 113\n",
      "b'and the next nothing is 87798'  count: 114\n",
      "b'and the next nothing is 24838'  count: 115\n",
      "b'and the next nothing is 66137'  count: 116\n",
      "b'and the next nothing is 88016'  count: 117\n",
      "b'and the next nothing is 36876'  count: 118\n",
      "b'and the next nothing is 33179'  count: 119\n",
      "b'and the next nothing is 90231'  count: 120\n",
      "b'and the next nothing is 17825'  count: 121\n",
      "b'and the next nothing is 84361'  count: 122\n",
      "b'and the next nothing is 99222'  count: 123\n",
      "b'and the next nothing is 87348'  count: 124\n",
      "b'and the next nothing is 47100'  count: 125\n",
      "b'and the next nothing is 90650'  count: 126\n",
      "b'and the next nothing is 84369'  count: 127\n",
      "b'and the next nothing is 36116'  count: 128\n",
      "b'and the next nothing is 96544'  count: 129\n",
      "b'and the next nothing is 62892'  count: 130\n",
      "b'and the next nothing is 43790'  count: 131\n",
      "b'and the next nothing is 67652'  count: 132\n",
      "b'and the next nothing is 32839'  count: 133\n",
      "b'and the next nothing is 5353'  count: 134\n",
      "b'and the next nothing is 63153'  count: 135\n",
      "b'and the next nothing is 48029'  count: 136\n",
      "b'and the next nothing is 84141'  count: 137\n",
      "b'and the next nothing is 14662'  count: 138\n",
      "b'and the next nothing is 78566'  count: 139\n",
      "b'and the next nothing is 18131'  count: 140\n",
      "b'and the next nothing is 710'  count: 141\n",
      "b'and the next nothing is 67500'  count: 142\n",
      "b'and the next nothing is 34992'  count: 143\n",
      "b'and the next nothing is 64568'  count: 144\n",
      "b'and the next nothing is 8155'  count: 145\n",
      "b'and the next nothing is 30579'  count: 146\n",
      "b'and the next nothing is 11629'  count: 147\n",
      "b'and the next nothing is 32490'  count: 148\n",
      "b'and the next nothing is 47936'  count: 149\n",
      "b'and the next nothing is 51350'  count: 150\n",
      "b'and the next nothing is 51877'  count: 151\n",
      "b'and the next nothing is 38270'  count: 152\n",
      "b'and the next nothing is 41643'  count: 153\n",
      "b'and the next nothing is 23416'  count: 154\n",
      "b'and the next nothing is 54432'  count: 155\n",
      "b'and the next nothing is 4448'  count: 156\n",
      "b'and the next nothing is 30086'  count: 157\n",
      "b'and the next nothing is 93346'  count: 158\n",
      "b'and the next nothing is 53491'  count: 159\n",
      "b'and the next nothing is 31248'  count: 160\n",
      "b'and the next nothing is 37446'  count: 161\n",
      "b'and the next nothing is 11309'  count: 162\n",
      "b'and the next nothing is 13878'  count: 163\n",
      "b'and the next nothing is 31404'  count: 164\n",
      "b'and the next nothing is 27786'  count: 165\n",
      "b'and the next nothing is 16030'  count: 166\n",
      "b'and the next nothing is 4689'  count: 167\n",
      "b'and the next nothing is 16553'  count: 168\n",
      "b'and the next nothing is 98150'  count: 169\n",
      "b'and the next nothing is 19224'  count: 170\n",
      "b'and the next nothing is 71919'  count: 171\n",
      "b'and the next nothing is 53068'  count: 172\n",
      "b'and the next nothing is 71407'  count: 173\n",
      "b'and the next nothing is 54264'  count: 174\n",
      "b'and the next nothing is 33407'  count: 175\n",
      "b'and the next nothing is 11086'  count: 176\n",
      "b'and the next nothing is 72527'  count: 177\n",
      "b'and the next nothing is 92923'  count: 178\n",
      "b'and the next nothing is 93389'  count: 179\n",
      "b'and the next nothing is 94438'  count: 180\n",
      "b'and the next nothing is 88796'  count: 181\n",
      "b'and the next nothing is 90785'  count: 182\n",
      "b'and the next nothing is 73079'  count: 183\n",
      "b'and the next nothing is 75559'  count: 184\n",
      "b'and the next nothing is 53223'  count: 185\n",
      "b'and the next nothing is 75979'  count: 186\n",
      "b'and the next nothing is 55749'  count: 187\n",
      "b'and the next nothing is 52948'  count: 188\n",
      "b'and the next nothing is 71569'  count: 189\n",
      "b'and the next nothing is 10240'  count: 190\n",
      "b'and the next nothing is 3064'  count: 191\n",
      "b'and the next nothing is 29818'  count: 192\n",
      "b'and the next nothing is 88835'  count: 193\n"
     ]
    },
    {
     "ename": "KeyboardInterrupt",
     "evalue": "",
     "output_type": "error",
     "traceback": [
      "\u001b[1;31m---------------------------------------------------------------------------\u001b[0m",
      "\u001b[1;31mKeyboardInterrupt\u001b[0m                         Traceback (most recent call last)",
      "\u001b[1;32m<ipython-input-44-4772519fda16>\u001b[0m in \u001b[0;36m<module>\u001b[1;34m()\u001b[0m\n\u001b[0;32m     12\u001b[0m     \u001b[0mst\u001b[0m \u001b[1;33m=\u001b[0m \u001b[1;34m'http://www.pythonchallenge.com/pc/def/linkedlist.php?nothing='\u001b[0m\u001b[1;33m+\u001b[0m\u001b[0mx\u001b[0m\u001b[1;33m\u001b[0m\u001b[0m\n\u001b[0;32m     13\u001b[0m     \u001b[0mreq\u001b[0m \u001b[1;33m=\u001b[0m \u001b[0murllib\u001b[0m\u001b[1;33m.\u001b[0m\u001b[0mrequest\u001b[0m\u001b[1;33m.\u001b[0m\u001b[0mRequest\u001b[0m\u001b[1;33m(\u001b[0m\u001b[0mst\u001b[0m\u001b[1;33m)\u001b[0m\u001b[1;33m\u001b[0m\u001b[0m\n\u001b[1;32m---> 14\u001b[1;33m     \u001b[1;32mwith\u001b[0m \u001b[0murllib\u001b[0m\u001b[1;33m.\u001b[0m\u001b[0mrequest\u001b[0m\u001b[1;33m.\u001b[0m\u001b[0murlopen\u001b[0m\u001b[1;33m(\u001b[0m\u001b[0mreq\u001b[0m\u001b[1;33m)\u001b[0m \u001b[1;32mas\u001b[0m \u001b[0mresponse\u001b[0m\u001b[1;33m:\u001b[0m\u001b[1;33m\u001b[0m\u001b[0m\n\u001b[0m\u001b[0;32m     15\u001b[0m        \u001b[0mthe_page\u001b[0m \u001b[1;33m=\u001b[0m \u001b[0mresponse\u001b[0m\u001b[1;33m.\u001b[0m\u001b[0mread\u001b[0m\u001b[1;33m(\u001b[0m\u001b[1;33m)\u001b[0m\u001b[1;33m\u001b[0m\u001b[0m\n\u001b[0;32m     16\u001b[0m \u001b[1;33m\u001b[0m\u001b[0m\n",
      "\u001b[1;32m~\\Anaconda3\\lib\\urllib\\request.py\u001b[0m in \u001b[0;36murlopen\u001b[1;34m(url, data, timeout, cafile, capath, cadefault, context)\u001b[0m\n\u001b[0;32m    221\u001b[0m     \u001b[1;32melse\u001b[0m\u001b[1;33m:\u001b[0m\u001b[1;33m\u001b[0m\u001b[0m\n\u001b[0;32m    222\u001b[0m         \u001b[0mopener\u001b[0m \u001b[1;33m=\u001b[0m \u001b[0m_opener\u001b[0m\u001b[1;33m\u001b[0m\u001b[0m\n\u001b[1;32m--> 223\u001b[1;33m     \u001b[1;32mreturn\u001b[0m \u001b[0mopener\u001b[0m\u001b[1;33m.\u001b[0m\u001b[0mopen\u001b[0m\u001b[1;33m(\u001b[0m\u001b[0murl\u001b[0m\u001b[1;33m,\u001b[0m \u001b[0mdata\u001b[0m\u001b[1;33m,\u001b[0m \u001b[0mtimeout\u001b[0m\u001b[1;33m)\u001b[0m\u001b[1;33m\u001b[0m\u001b[0m\n\u001b[0m\u001b[0;32m    224\u001b[0m \u001b[1;33m\u001b[0m\u001b[0m\n\u001b[0;32m    225\u001b[0m \u001b[1;32mdef\u001b[0m \u001b[0minstall_opener\u001b[0m\u001b[1;33m(\u001b[0m\u001b[0mopener\u001b[0m\u001b[1;33m)\u001b[0m\u001b[1;33m:\u001b[0m\u001b[1;33m\u001b[0m\u001b[0m\n",
      "\u001b[1;32m~\\Anaconda3\\lib\\urllib\\request.py\u001b[0m in \u001b[0;36mopen\u001b[1;34m(self, fullurl, data, timeout)\u001b[0m\n\u001b[0;32m    524\u001b[0m             \u001b[0mreq\u001b[0m \u001b[1;33m=\u001b[0m \u001b[0mmeth\u001b[0m\u001b[1;33m(\u001b[0m\u001b[0mreq\u001b[0m\u001b[1;33m)\u001b[0m\u001b[1;33m\u001b[0m\u001b[0m\n\u001b[0;32m    525\u001b[0m \u001b[1;33m\u001b[0m\u001b[0m\n\u001b[1;32m--> 526\u001b[1;33m         \u001b[0mresponse\u001b[0m \u001b[1;33m=\u001b[0m \u001b[0mself\u001b[0m\u001b[1;33m.\u001b[0m\u001b[0m_open\u001b[0m\u001b[1;33m(\u001b[0m\u001b[0mreq\u001b[0m\u001b[1;33m,\u001b[0m \u001b[0mdata\u001b[0m\u001b[1;33m)\u001b[0m\u001b[1;33m\u001b[0m\u001b[0m\n\u001b[0m\u001b[0;32m    527\u001b[0m \u001b[1;33m\u001b[0m\u001b[0m\n\u001b[0;32m    528\u001b[0m         \u001b[1;31m# post-process response\u001b[0m\u001b[1;33m\u001b[0m\u001b[1;33m\u001b[0m\u001b[0m\n",
      "\u001b[1;32m~\\Anaconda3\\lib\\urllib\\request.py\u001b[0m in \u001b[0;36m_open\u001b[1;34m(self, req, data)\u001b[0m\n\u001b[0;32m    542\u001b[0m         \u001b[0mprotocol\u001b[0m \u001b[1;33m=\u001b[0m \u001b[0mreq\u001b[0m\u001b[1;33m.\u001b[0m\u001b[0mtype\u001b[0m\u001b[1;33m\u001b[0m\u001b[0m\n\u001b[0;32m    543\u001b[0m         result = self._call_chain(self.handle_open, protocol, protocol +\n\u001b[1;32m--> 544\u001b[1;33m                                   '_open', req)\n\u001b[0m\u001b[0;32m    545\u001b[0m         \u001b[1;32mif\u001b[0m \u001b[0mresult\u001b[0m\u001b[1;33m:\u001b[0m\u001b[1;33m\u001b[0m\u001b[0m\n\u001b[0;32m    546\u001b[0m             \u001b[1;32mreturn\u001b[0m \u001b[0mresult\u001b[0m\u001b[1;33m\u001b[0m\u001b[0m\n",
      "\u001b[1;32m~\\Anaconda3\\lib\\urllib\\request.py\u001b[0m in \u001b[0;36m_call_chain\u001b[1;34m(self, chain, kind, meth_name, *args)\u001b[0m\n\u001b[0;32m    502\u001b[0m         \u001b[1;32mfor\u001b[0m \u001b[0mhandler\u001b[0m \u001b[1;32min\u001b[0m \u001b[0mhandlers\u001b[0m\u001b[1;33m:\u001b[0m\u001b[1;33m\u001b[0m\u001b[0m\n\u001b[0;32m    503\u001b[0m             \u001b[0mfunc\u001b[0m \u001b[1;33m=\u001b[0m \u001b[0mgetattr\u001b[0m\u001b[1;33m(\u001b[0m\u001b[0mhandler\u001b[0m\u001b[1;33m,\u001b[0m \u001b[0mmeth_name\u001b[0m\u001b[1;33m)\u001b[0m\u001b[1;33m\u001b[0m\u001b[0m\n\u001b[1;32m--> 504\u001b[1;33m             \u001b[0mresult\u001b[0m \u001b[1;33m=\u001b[0m \u001b[0mfunc\u001b[0m\u001b[1;33m(\u001b[0m\u001b[1;33m*\u001b[0m\u001b[0margs\u001b[0m\u001b[1;33m)\u001b[0m\u001b[1;33m\u001b[0m\u001b[0m\n\u001b[0m\u001b[0;32m    505\u001b[0m             \u001b[1;32mif\u001b[0m \u001b[0mresult\u001b[0m \u001b[1;32mis\u001b[0m \u001b[1;32mnot\u001b[0m \u001b[1;32mNone\u001b[0m\u001b[1;33m:\u001b[0m\u001b[1;33m\u001b[0m\u001b[0m\n\u001b[0;32m    506\u001b[0m                 \u001b[1;32mreturn\u001b[0m \u001b[0mresult\u001b[0m\u001b[1;33m\u001b[0m\u001b[0m\n",
      "\u001b[1;32m~\\Anaconda3\\lib\\urllib\\request.py\u001b[0m in \u001b[0;36mhttp_open\u001b[1;34m(self, req)\u001b[0m\n\u001b[0;32m   1344\u001b[0m \u001b[1;33m\u001b[0m\u001b[0m\n\u001b[0;32m   1345\u001b[0m     \u001b[1;32mdef\u001b[0m \u001b[0mhttp_open\u001b[0m\u001b[1;33m(\u001b[0m\u001b[0mself\u001b[0m\u001b[1;33m,\u001b[0m \u001b[0mreq\u001b[0m\u001b[1;33m)\u001b[0m\u001b[1;33m:\u001b[0m\u001b[1;33m\u001b[0m\u001b[0m\n\u001b[1;32m-> 1346\u001b[1;33m         \u001b[1;32mreturn\u001b[0m \u001b[0mself\u001b[0m\u001b[1;33m.\u001b[0m\u001b[0mdo_open\u001b[0m\u001b[1;33m(\u001b[0m\u001b[0mhttp\u001b[0m\u001b[1;33m.\u001b[0m\u001b[0mclient\u001b[0m\u001b[1;33m.\u001b[0m\u001b[0mHTTPConnection\u001b[0m\u001b[1;33m,\u001b[0m \u001b[0mreq\u001b[0m\u001b[1;33m)\u001b[0m\u001b[1;33m\u001b[0m\u001b[0m\n\u001b[0m\u001b[0;32m   1347\u001b[0m \u001b[1;33m\u001b[0m\u001b[0m\n\u001b[0;32m   1348\u001b[0m     \u001b[0mhttp_request\u001b[0m \u001b[1;33m=\u001b[0m \u001b[0mAbstractHTTPHandler\u001b[0m\u001b[1;33m.\u001b[0m\u001b[0mdo_request_\u001b[0m\u001b[1;33m\u001b[0m\u001b[0m\n",
      "\u001b[1;32m~\\Anaconda3\\lib\\urllib\\request.py\u001b[0m in \u001b[0;36mdo_open\u001b[1;34m(self, http_class, req, **http_conn_args)\u001b[0m\n\u001b[0;32m   1319\u001b[0m             \u001b[1;32mexcept\u001b[0m \u001b[0mOSError\u001b[0m \u001b[1;32mas\u001b[0m \u001b[0merr\u001b[0m\u001b[1;33m:\u001b[0m \u001b[1;31m# timeout error\u001b[0m\u001b[1;33m\u001b[0m\u001b[0m\n\u001b[0;32m   1320\u001b[0m                 \u001b[1;32mraise\u001b[0m \u001b[0mURLError\u001b[0m\u001b[1;33m(\u001b[0m\u001b[0merr\u001b[0m\u001b[1;33m)\u001b[0m\u001b[1;33m\u001b[0m\u001b[0m\n\u001b[1;32m-> 1321\u001b[1;33m             \u001b[0mr\u001b[0m \u001b[1;33m=\u001b[0m \u001b[0mh\u001b[0m\u001b[1;33m.\u001b[0m\u001b[0mgetresponse\u001b[0m\u001b[1;33m(\u001b[0m\u001b[1;33m)\u001b[0m\u001b[1;33m\u001b[0m\u001b[0m\n\u001b[0m\u001b[0;32m   1322\u001b[0m         \u001b[1;32mexcept\u001b[0m\u001b[1;33m:\u001b[0m\u001b[1;33m\u001b[0m\u001b[0m\n\u001b[0;32m   1323\u001b[0m             \u001b[0mh\u001b[0m\u001b[1;33m.\u001b[0m\u001b[0mclose\u001b[0m\u001b[1;33m(\u001b[0m\u001b[1;33m)\u001b[0m\u001b[1;33m\u001b[0m\u001b[0m\n",
      "\u001b[1;32m~\\Anaconda3\\lib\\http\\client.py\u001b[0m in \u001b[0;36mgetresponse\u001b[1;34m(self)\u001b[0m\n\u001b[0;32m   1329\u001b[0m         \u001b[1;32mtry\u001b[0m\u001b[1;33m:\u001b[0m\u001b[1;33m\u001b[0m\u001b[0m\n\u001b[0;32m   1330\u001b[0m             \u001b[1;32mtry\u001b[0m\u001b[1;33m:\u001b[0m\u001b[1;33m\u001b[0m\u001b[0m\n\u001b[1;32m-> 1331\u001b[1;33m                 \u001b[0mresponse\u001b[0m\u001b[1;33m.\u001b[0m\u001b[0mbegin\u001b[0m\u001b[1;33m(\u001b[0m\u001b[1;33m)\u001b[0m\u001b[1;33m\u001b[0m\u001b[0m\n\u001b[0m\u001b[0;32m   1332\u001b[0m             \u001b[1;32mexcept\u001b[0m \u001b[0mConnectionError\u001b[0m\u001b[1;33m:\u001b[0m\u001b[1;33m\u001b[0m\u001b[0m\n\u001b[0;32m   1333\u001b[0m                 \u001b[0mself\u001b[0m\u001b[1;33m.\u001b[0m\u001b[0mclose\u001b[0m\u001b[1;33m(\u001b[0m\u001b[1;33m)\u001b[0m\u001b[1;33m\u001b[0m\u001b[0m\n",
      "\u001b[1;32m~\\Anaconda3\\lib\\http\\client.py\u001b[0m in \u001b[0;36mbegin\u001b[1;34m(self)\u001b[0m\n\u001b[0;32m    295\u001b[0m         \u001b[1;31m# read until we get a non-100 response\u001b[0m\u001b[1;33m\u001b[0m\u001b[1;33m\u001b[0m\u001b[0m\n\u001b[0;32m    296\u001b[0m         \u001b[1;32mwhile\u001b[0m \u001b[1;32mTrue\u001b[0m\u001b[1;33m:\u001b[0m\u001b[1;33m\u001b[0m\u001b[0m\n\u001b[1;32m--> 297\u001b[1;33m             \u001b[0mversion\u001b[0m\u001b[1;33m,\u001b[0m \u001b[0mstatus\u001b[0m\u001b[1;33m,\u001b[0m \u001b[0mreason\u001b[0m \u001b[1;33m=\u001b[0m \u001b[0mself\u001b[0m\u001b[1;33m.\u001b[0m\u001b[0m_read_status\u001b[0m\u001b[1;33m(\u001b[0m\u001b[1;33m)\u001b[0m\u001b[1;33m\u001b[0m\u001b[0m\n\u001b[0m\u001b[0;32m    298\u001b[0m             \u001b[1;32mif\u001b[0m \u001b[0mstatus\u001b[0m \u001b[1;33m!=\u001b[0m \u001b[0mCONTINUE\u001b[0m\u001b[1;33m:\u001b[0m\u001b[1;33m\u001b[0m\u001b[0m\n\u001b[0;32m    299\u001b[0m                 \u001b[1;32mbreak\u001b[0m\u001b[1;33m\u001b[0m\u001b[0m\n",
      "\u001b[1;32m~\\Anaconda3\\lib\\http\\client.py\u001b[0m in \u001b[0;36m_read_status\u001b[1;34m(self)\u001b[0m\n\u001b[0;32m    256\u001b[0m \u001b[1;33m\u001b[0m\u001b[0m\n\u001b[0;32m    257\u001b[0m     \u001b[1;32mdef\u001b[0m \u001b[0m_read_status\u001b[0m\u001b[1;33m(\u001b[0m\u001b[0mself\u001b[0m\u001b[1;33m)\u001b[0m\u001b[1;33m:\u001b[0m\u001b[1;33m\u001b[0m\u001b[0m\n\u001b[1;32m--> 258\u001b[1;33m         \u001b[0mline\u001b[0m \u001b[1;33m=\u001b[0m \u001b[0mstr\u001b[0m\u001b[1;33m(\u001b[0m\u001b[0mself\u001b[0m\u001b[1;33m.\u001b[0m\u001b[0mfp\u001b[0m\u001b[1;33m.\u001b[0m\u001b[0mreadline\u001b[0m\u001b[1;33m(\u001b[0m\u001b[0m_MAXLINE\u001b[0m \u001b[1;33m+\u001b[0m \u001b[1;36m1\u001b[0m\u001b[1;33m)\u001b[0m\u001b[1;33m,\u001b[0m \u001b[1;34m\"iso-8859-1\"\u001b[0m\u001b[1;33m)\u001b[0m\u001b[1;33m\u001b[0m\u001b[0m\n\u001b[0m\u001b[0;32m    259\u001b[0m         \u001b[1;32mif\u001b[0m \u001b[0mlen\u001b[0m\u001b[1;33m(\u001b[0m\u001b[0mline\u001b[0m\u001b[1;33m)\u001b[0m \u001b[1;33m>\u001b[0m \u001b[0m_MAXLINE\u001b[0m\u001b[1;33m:\u001b[0m\u001b[1;33m\u001b[0m\u001b[0m\n\u001b[0;32m    260\u001b[0m             \u001b[1;32mraise\u001b[0m \u001b[0mLineTooLong\u001b[0m\u001b[1;33m(\u001b[0m\u001b[1;34m\"status line\"\u001b[0m\u001b[1;33m)\u001b[0m\u001b[1;33m\u001b[0m\u001b[0m\n",
      "\u001b[1;32m~\\Anaconda3\\lib\\socket.py\u001b[0m in \u001b[0;36mreadinto\u001b[1;34m(self, b)\u001b[0m\n\u001b[0;32m    584\u001b[0m         \u001b[1;32mwhile\u001b[0m \u001b[1;32mTrue\u001b[0m\u001b[1;33m:\u001b[0m\u001b[1;33m\u001b[0m\u001b[0m\n\u001b[0;32m    585\u001b[0m             \u001b[1;32mtry\u001b[0m\u001b[1;33m:\u001b[0m\u001b[1;33m\u001b[0m\u001b[0m\n\u001b[1;32m--> 586\u001b[1;33m                 \u001b[1;32mreturn\u001b[0m \u001b[0mself\u001b[0m\u001b[1;33m.\u001b[0m\u001b[0m_sock\u001b[0m\u001b[1;33m.\u001b[0m\u001b[0mrecv_into\u001b[0m\u001b[1;33m(\u001b[0m\u001b[0mb\u001b[0m\u001b[1;33m)\u001b[0m\u001b[1;33m\u001b[0m\u001b[0m\n\u001b[0m\u001b[0;32m    587\u001b[0m             \u001b[1;32mexcept\u001b[0m \u001b[0mtimeout\u001b[0m\u001b[1;33m:\u001b[0m\u001b[1;33m\u001b[0m\u001b[0m\n\u001b[0;32m    588\u001b[0m                 \u001b[0mself\u001b[0m\u001b[1;33m.\u001b[0m\u001b[0m_timeout_occurred\u001b[0m \u001b[1;33m=\u001b[0m \u001b[1;32mTrue\u001b[0m\u001b[1;33m\u001b[0m\u001b[0m\n",
      "\u001b[1;31mKeyboardInterrupt\u001b[0m: "
     ]
    }
   ],
   "source": [
    "import urllib.request\n",
    "lt=[]\n",
    "x = '63579'\n",
    "st = 'http://www.pythonchallenge.com/pc/def/linkedlist.php?nothing='+x\n",
    "req = urllib.request.Request(st)\n",
    "with urllib.request.urlopen(req) as response:\n",
    "    the_page = response.read()\n",
    "    lt = the_page.split()\n",
    "for count in range(0,500):\n",
    "    \n",
    "    x = lt[-1].decode(\"utf-8\")\n",
    "    st = 'http://www.pythonchallenge.com/pc/def/linkedlist.php?nothing='+x\n",
    "    req = urllib.request.Request(st)\n",
    "    with urllib.request.urlopen(req) as response:\n",
    "       the_page = response.read()\n",
    "    \n",
    "    print(the_page,\" count:\",count)\n",
    "    lt = the_page.split()"
   ]
  },
  {
   "cell_type": "code",
   "execution_count": 28,
   "metadata": {},
   "outputs": [
    {
     "data": {
      "text/plain": [
       "b'and the next nothing is 8880'"
      ]
     },
     "execution_count": 28,
     "metadata": {},
     "output_type": "execute_result"
    }
   ],
   "source": []
  },
  {
   "cell_type": "code",
   "execution_count": 26,
   "metadata": {
    "collapsed": true
   },
   "outputs": [],
   "source": [
    "lt = the_page.split()"
   ]
  },
  {
   "cell_type": "code",
   "execution_count": 14,
   "metadata": {},
   "outputs": [
    {
     "data": {
      "text/plain": [
       "[b'and', b'the', b'next', b'nothing', b'is', b'72198']"
      ]
     },
     "execution_count": 14,
     "metadata": {},
     "output_type": "execute_result"
    }
   ],
   "source": [
    "lt"
   ]
  },
  {
   "cell_type": "code",
   "execution_count": 22,
   "metadata": {},
   "outputs": [
    {
     "data": {
      "text/plain": [
       "'72198'"
      ]
     },
     "execution_count": 22,
     "metadata": {},
     "output_type": "execute_result"
    }
   ],
   "source": [
    "lt[-1].decode(\"utf-8\")"
   ]
  },
  {
   "cell_type": "code",
   "execution_count": 1,
   "metadata": {
    "collapsed": true
   },
   "outputs": [],
   "source": [
    "import pickle"
   ]
  },
  {
   "cell_type": "code",
   "execution_count": 4,
   "metadata": {
    "collapsed": true
   },
   "outputs": [],
   "source": [
    "entry=['p','e','a','k']\n",
    "with open('entry.pickle', 'wb') as f:\n",
    "    \n",
    "    pickle.dump(entry, f)"
   ]
  },
  {
   "cell_type": "code",
   "execution_count": 5,
   "metadata": {},
   "outputs": [
    {
     "data": {
      "text/plain": [
       "<_io.BufferedWriter name='entry.pickle'>"
      ]
     },
     "execution_count": 5,
     "metadata": {},
     "output_type": "execute_result"
    }
   ],
   "source": [
    "f"
   ]
  },
  {
   "cell_type": "code",
   "execution_count": 6,
   "metadata": {
    "collapsed": true
   },
   "outputs": [],
   "source": [
    "with open('entry.pickle', 'rb') as f:\n",
    "    entry = pickle.load(f)"
   ]
  },
  {
   "cell_type": "code",
   "execution_count": 7,
   "metadata": {},
   "outputs": [
    {
     "data": {
      "text/plain": [
       "['p', 'e', 'a', 'k']"
      ]
     },
     "execution_count": 7,
     "metadata": {},
     "output_type": "execute_result"
    }
   ],
   "source": [
    "entry"
   ]
  },
  {
   "cell_type": "code",
   "execution_count": 8,
   "metadata": {},
   "outputs": [
    {
     "data": {
      "text/plain": [
       "<_io.BufferedReader name='entry.pickle'>"
      ]
     },
     "execution_count": 8,
     "metadata": {},
     "output_type": "execute_result"
    }
   ],
   "source": [
    "f"
   ]
  },
  {
   "cell_type": "code",
   "execution_count": 11,
   "metadata": {
    "collapsed": true
   },
   "outputs": [],
   "source": [
    "import urllib.request\n",
    "import pickle\n",
    "lt=[]\n",
    "st = 'http://www.pythonchallenge.com/pc/def/banner.p'\n",
    "req = urllib.request.Request(st)\n",
    "with urllib.request.urlopen(req) as response:\n",
    "    the_page = response.read()\n",
    "data = pickle.loads(the_page)"
   ]
  },
  {
   "cell_type": "code",
   "execution_count": 16,
   "metadata": {},
   "outputs": [
    {
     "name": "stdout",
     "output_type": "stream",
     "text": [
      "                                                                                               \n",
      "              #####                                                                      ##### \n",
      "               ####                                                                       #### \n",
      "               ####                                                                       #### \n",
      "               ####                                                                       #### \n",
      "               ####                                                                       #### \n",
      "               ####                                                                       #### \n",
      "               ####                                                                       #### \n",
      "               ####                                                                       #### \n",
      "      ###      ####   ###         ###       #####   ###    #####   ###          ###       #### \n",
      "   ###   ##    #### #######     ##  ###      #### #######   #### #######     ###  ###     #### \n",
      "  ###     ###  #####    ####   ###   ####    #####    ####  #####    ####   ###     ###   #### \n",
      " ###           ####     ####   ###    ###    ####     ####  ####     ####  ###      ####  #### \n",
      " ###           ####     ####          ###    ####     ####  ####     ####  ###       ###  #### \n",
      "####           ####     ####     ##   ###    ####     ####  ####     #### ####       ###  #### \n",
      "####           ####     ####   ##########    ####     ####  ####     #### ##############  #### \n",
      "####           ####     ####  ###    ####    ####     ####  ####     #### ####            #### \n",
      "####           ####     #### ####     ###    ####     ####  ####     #### ####            #### \n",
      " ###           ####     #### ####     ###    ####     ####  ####     ####  ###            #### \n",
      "  ###      ##  ####     ####  ###    ####    ####     ####  ####     ####   ###      ##   #### \n",
      "   ###    ##   ####     ####   ###########   ####     ####  ####     ####    ###    ##    #### \n",
      "      ###     ######    #####    ##    #### ######    ###########    #####      ###      ######\n",
      "                                                                                               \n"
     ]
    }
   ],
   "source": [
    "for line in data:\n",
    "    print(\"\".join([k * v for k, v in line]))"
   ]
  },
  {
   "cell_type": "code",
   "execution_count": 31,
   "metadata": {},
   "outputs": [
    {
     "ename": "UnpicklingError",
     "evalue": "invalid load key, '\\xff'.",
     "output_type": "error",
     "traceback": [
      "\u001b[1;31m---------------------------------------------------------------------------\u001b[0m",
      "\u001b[1;31mUnpicklingError\u001b[0m                           Traceback (most recent call last)",
      "\u001b[1;32m<ipython-input-31-48b868f7f8d6>\u001b[0m in \u001b[0;36m<module>\u001b[1;34m()\u001b[0m\n\u001b[0;32m      3\u001b[0m \u001b[1;32mwith\u001b[0m \u001b[0murllib\u001b[0m\u001b[1;33m.\u001b[0m\u001b[0mrequest\u001b[0m\u001b[1;33m.\u001b[0m\u001b[0murlopen\u001b[0m\u001b[1;33m(\u001b[0m\u001b[0mreq\u001b[0m\u001b[1;33m)\u001b[0m \u001b[1;32mas\u001b[0m \u001b[0mresponse\u001b[0m\u001b[1;33m:\u001b[0m\u001b[1;33m\u001b[0m\u001b[0m\n\u001b[0;32m      4\u001b[0m     \u001b[0mthe_page\u001b[0m \u001b[1;33m=\u001b[0m \u001b[0mresponse\u001b[0m\u001b[1;33m.\u001b[0m\u001b[0mread\u001b[0m\u001b[1;33m(\u001b[0m\u001b[1;33m)\u001b[0m\u001b[1;33m\u001b[0m\u001b[0m\n\u001b[1;32m----> 5\u001b[1;33m \u001b[0mdata\u001b[0m \u001b[1;33m=\u001b[0m \u001b[0mpickle\u001b[0m\u001b[1;33m.\u001b[0m\u001b[0mloads\u001b[0m\u001b[1;33m(\u001b[0m\u001b[0mthe_page\u001b[0m\u001b[1;33m)\u001b[0m\u001b[1;33m\u001b[0m\u001b[0m\n\u001b[0m",
      "\u001b[1;31mUnpicklingError\u001b[0m: invalid load key, '\\xff'."
     ]
    }
   ],
   "source": [
    "st = 'http://www.pythonchallenge.com/pc/def/channel.jpg'\n",
    "req = urllib.request.Request(st)\n",
    "with urllib.request.urlopen(req) as response:\n",
    "    the_page = response.read()\n",
    "data = pickle.loads(the_page)"
   ]
  },
  {
   "cell_type": "code",
   "execution_count": 34,
   "metadata": {},
   "outputs": [
    {
     "name": "stdout",
     "output_type": "stream",
     "text": [
      "[('c', '<'), ('h', '-'), ('a', '-'), ('n', ' '), ('n', 'z'), ('e', 'i'), ('l', 'p')]\n",
      "[(('c', '<'),), (('h', '-'),), (('a', '-'),), (('n', ' '),), (('n', 'z'),), (('e', 'i'),), (('l', 'p'),)]\n"
     ]
    }
   ],
   "source": [
    "list1=\"channel\"\n",
    "list2=\"<-- zip\"\n",
    "zipped = list(zip(list1,list2))\n",
    "print (zipped)\n",
    "unzipped = list(zip(zipped))\n",
    "print (unzipped)"
   ]
  },
  {
   "cell_type": "code",
   "execution_count": 64,
   "metadata": {},
   "outputs": [
    {
     "name": "stdout",
     "output_type": "stream",
     "text": [
      "Next nothing is 85503\n",
      "Next nothing is 70877\n",
      "Next nothing is 15409\n",
      "Next nothing is 60838\n",
      "Next nothing is 80009\n",
      "Next nothing is 21347\n",
      "Next nothing is 24164\n",
      "Next nothing is 13836\n",
      "Next nothing is 80123\n",
      "Next nothing is 92453\n",
      "Next nothing is 69556\n",
      "Next nothing is 31491\n",
      "Next nothing is 13371\n",
      "Next nothing is 88143\n",
      "Next nothing is 82593\n",
      "Next nothing is 30645\n",
      "Next nothing is 88985\n",
      "Next nothing is 27190\n",
      "Next nothing is 24448\n",
      "Next nothing is 37468\n",
      "Next nothing is 49892\n",
      "Next nothing is 54714\n",
      "Next nothing is 75161\n",
      "Next nothing is 893\n",
      "Next nothing is 57882\n",
      "Next nothing is 40033\n",
      "Next nothing is 29521\n",
      "Next nothing is 5289\n",
      "Next nothing is 4701\n",
      "Next nothing is 32742\n",
      "Next nothing is 18751\n",
      "Next nothing is 68586\n",
      "Next nothing is 53984\n",
      "Next nothing is 52184\n",
      "Next nothing is 43807\n",
      "Next nothing is 56300\n",
      "Next nothing is 97649\n",
      "Next nothing is 88244\n",
      "Next nothing is 91669\n",
      "Next nothing is 88394\n",
      "Next nothing is 77575\n",
      "Next nothing is 70208\n",
      "Next nothing is 78211\n",
      "Next nothing is 84854\n",
      "Next nothing is 87594\n",
      "Next nothing is 26234\n",
      "Next nothing is 63181\n",
      "Next nothing is 68559\n",
      "Next nothing is 37695\n",
      "Next nothing is 64397\n",
      "Next nothing is 55356\n",
      "Next nothing is 8258\n",
      "Next nothing is 77074\n",
      "Next nothing is 28389\n",
      "Next nothing is 39983\n",
      "Next nothing is 40210\n",
      "Next nothing is 69972\n",
      "Next nothing is 48089\n",
      "Next nothing is 34764\n",
      "Next nothing is 46945\n",
      "Next nothing is 97812\n",
      "Next nothing is 95662\n",
      "Next nothing is 55220\n",
      "Next nothing is 86793\n",
      "Next nothing is 69785\n",
      "Next nothing is 85827\n",
      "Next nothing is 75722\n",
      "Next nothing is 37259\n",
      "Next nothing is 57622\n",
      "Next nothing is 57566\n",
      "Next nothing is 98181\n",
      "Next nothing is 57831\n",
      "Next nothing is 68947\n",
      "Next nothing is 29834\n",
      "Next nothing is 67060\n",
      "Next nothing is 48669\n",
      "Next nothing is 12761\n",
      "Next nothing is 47882\n",
      "Next nothing is 98339\n",
      "Next nothing is 9058\n",
      "Next nothing is 14745\n",
      "Next nothing is 60138\n",
      "Next nothing is 47842\n",
      "Next nothing is 71178\n",
      "Next nothing is 1091\n",
      "Next nothing is 52205\n",
      "Next nothing is 98709\n",
      "Next nothing is 4992\n",
      "Next nothing is 97673\n",
      "Next nothing is 92736\n",
      "Next nothing is 98119\n",
      "Next nothing is 97515\n",
      "Next nothing is 98939\n",
      "Next nothing is 36656\n",
      "Next nothing is 85839\n",
      "Next nothing is 33746\n",
      "Next nothing is 64122\n",
      "Next nothing is 41968\n",
      "Next nothing is 56617\n",
      "Next nothing is 83808\n",
      "Next nothing is 68613\n",
      "Next nothing is 99714\n",
      "Next nothing is 67196\n",
      "Next nothing is 11992\n",
      "Next nothing is 38192\n",
      "Next nothing is 61837\n",
      "Next nothing is 29034\n",
      "Next nothing is 77480\n",
      "Next nothing is 12737\n",
      "Next nothing is 39310\n",
      "Next nothing is 89307\n",
      "Next nothing is 36624\n",
      "Next nothing is 81412\n",
      "Next nothing is 51450\n",
      "Next nothing is 21690\n",
      "Next nothing is 46726\n",
      "Next nothing is 74576\n",
      "Next nothing is 57901\n",
      "Next nothing is 92043\n",
      "Next nothing is 78130\n",
      "Next nothing is 23647\n",
      "Next nothing is 39258\n",
      "Next nothing is 76629\n",
      "Next nothing is 48614\n",
      "Next nothing is 74736\n",
      "Next nothing is 53027\n",
      "Next nothing is 3713\n",
      "Next nothing is 30339\n",
      "Next nothing is 42197\n",
      "Next nothing is 12539\n",
      "Next nothing is 98095\n",
      "Next nothing is 176\n",
      "Next nothing is 64956\n",
      "Next nothing is 78307\n",
      "Next nothing is 35035\n",
      "Next nothing is 36894\n",
      "Next nothing is 76017\n",
      "Next nothing is 67036\n",
      "Next nothing is 33179\n",
      "Next nothing is 64085\n",
      "Next nothing is 90506\n",
      "Next nothing is 94079\n",
      "Next nothing is 76441\n",
      "Next nothing is 16146\n",
      "Next nothing is 78399\n",
      "Next nothing is 98044\n",
      "Next nothing is 64045\n",
      "Next nothing is 69444\n",
      "Next nothing is 78862\n",
      "Next nothing is 51492\n",
      "Next nothing is 52349\n",
      "Next nothing is 86079\n",
      "Next nothing is 8001\n",
      "Next nothing is 68750\n",
      "Next nothing is 65764\n",
      "Next nothing is 11419\n",
      "Next nothing is 96644\n",
      "Next nothing is 63154\n",
      "Next nothing is 70397\n",
      "Next nothing is 91046\n",
      "Next nothing is 61274\n",
      "Next nothing is 50678\n",
      "Next nothing is 94118\n",
      "Next nothing is 86774\n",
      "Next nothing is 47673\n",
      "Next nothing is 90792\n",
      "Next nothing is 95791\n",
      "Next nothing is 72442\n",
      "Next nothing is 57730\n",
      "Next nothing is 79566\n",
      "Next nothing is 66349\n",
      "Next nothing is 40521\n",
      "Next nothing is 59808\n",
      "Next nothing is 14628\n",
      "Next nothing is 39820\n",
      "Next nothing is 100\n",
      "Next nothing is 84844\n",
      "Next nothing is 39890\n",
      "Next nothing is 12930\n",
      "Next nothing is 97979\n",
      "Next nothing is 16870\n",
      "Next nothing is 3928\n",
      "Next nothing is 71245\n",
      "Next nothing is 8289\n",
      "Next nothing is 9118\n",
      "Next nothing is 81768\n",
      "Next nothing is 68242\n",
      "Next nothing is 65768\n",
      "Next nothing is 94363\n",
      "Next nothing is 34013\n",
      "Next nothing is 85632\n",
      "Next nothing is 82706\n",
      "Next nothing is 97089\n",
      "Next nothing is 67999\n",
      "Next nothing is 53542\n",
      "Next nothing is 68609\n",
      "Next nothing is 91136\n",
      "Next nothing is 95660\n",
      "Next nothing is 30395\n",
      "Next nothing is 19822\n",
      "Next nothing is 55325\n",
      "Next nothing is 33630\n",
      "Next nothing is 65277\n",
      "Next nothing is 34563\n",
      "Next nothing is 44890\n",
      "Next nothing is 54001\n",
      "Next nothing is 75838\n",
      "Next nothing is 83931\n",
      "Next nothing is 68010\n",
      "Next nothing is 62369\n",
      "Next nothing is 30318\n",
      "Next nothing is 79479\n",
      "Next nothing is 31117\n",
      "Next nothing is 43267\n",
      "Next nothing is 9623\n",
      "Next nothing is 46206\n",
      "Next nothing is 56408\n",
      "Next nothing is 91586\n",
      "Next nothing is 60171\n",
      "Next nothing is 21279\n",
      "Next nothing is 74921\n",
      "Next nothing is 91523\n",
      "Next nothing is 82519\n",
      "Next nothing is 40257\n",
      "Next nothing is 76116\n",
      "Next nothing is 7556\n",
      "Next nothing is 99775\n",
      "Next nothing is 74219\n",
      "Next nothing is 82223\n",
      "Next nothing is 35247\n",
      "Next nothing is 52390\n",
      "Next nothing is 89160\n",
      "Next nothing is 16586\n",
      "Next nothing is 24065\n",
      "Next nothing is 69983\n",
      "Next nothing is 55163\n",
      "Next nothing is 73389\n",
      "Next nothing is 91965\n",
      "Next nothing is 98094\n",
      "Next nothing is 11616\n",
      "Next nothing is 3651\n",
      "Next nothing is 56582\n",
      "Next nothing is 70915\n",
      "Next nothing is 16041\n",
      "Next nothing is 22628\n",
      "Next nothing is 21140\n",
      "Next nothing is 24595\n",
      "Next nothing is 2015\n",
      "Next nothing is 1063\n",
      "Next nothing is 81810\n",
      "Next nothing is 16744\n",
      "Next nothing is 63875\n",
      "Next nothing is 55449\n",
      "Next nothing is 93756\n",
      "Next nothing is 90763\n",
      "Next nothing is 92265\n",
      "Next nothing is 12362\n",
      "Next nothing is 31981\n",
      "Next nothing is 33177\n",
      "Next nothing is 64602\n",
      "Next nothing is 95085\n",
      "Next nothing is 22509\n",
      "Next nothing is 16043\n",
      "Next nothing is 75290\n",
      "Next nothing is 50374\n",
      "Next nothing is 67572\n",
      "Next nothing is 37055\n",
      "Next nothing is 77186\n",
      "Next nothing is 32544\n",
      "Next nothing is 1878\n",
      "Next nothing is 65126\n",
      "Next nothing is 72092\n",
      "Next nothing is 17712\n",
      "Next nothing is 81039\n",
      "Next nothing is 87476\n",
      "Next nothing is 18375\n",
      "Next nothing is 29494\n",
      "Next nothing is 46210\n",
      "Next nothing is 12351\n",
      "Next nothing is 11352\n",
      "Next nothing is 16030\n",
      "Next nothing is 3390\n",
      "Next nothing is 603\n",
      "Next nothing is 11827\n",
      "Next nothing is 1123\n",
      "Next nothing is 3924\n",
      "Next nothing is 66402\n",
      "Next nothing is 36832\n",
      "Next nothing is 76131\n",
      "Next nothing is 51106\n",
      "Next nothing is 24644\n",
      "Next nothing is 66351\n",
      "Next nothing is 34515\n",
      "Next nothing is 3572\n",
      "Next nothing is 66200\n",
      "Next nothing is 63804\n",
      "Next nothing is 47248\n",
      "Next nothing is 4931\n",
      "Next nothing is 41894\n",
      "Next nothing is 88223\n",
      "Next nothing is 76945\n",
      "Next nothing is 18520\n",
      "Next nothing is 1440\n",
      "Next nothing is 39405\n",
      "Next nothing is 72571\n",
      "Next nothing is 4506\n",
      "Next nothing is 38221\n",
      "Next nothing is 82852\n",
      "Next nothing is 62826\n",
      "Next nothing is 24567\n",
      "Next nothing is 4682\n",
      "Next nothing is 88024\n",
      "Next nothing is 33791\n",
      "Next nothing is 29446\n",
      "Next nothing is 67233\n",
      "Next nothing is 17152\n",
      "Next nothing is 730\n",
      "Next nothing is 28928\n",
      "Next nothing is 88004\n",
      "Next nothing is 65514\n",
      "Next nothing is 88301\n",
      "Next nothing is 74357\n",
      "Next nothing is 32837\n",
      "Next nothing is 59049\n",
      "Next nothing is 91793\n",
      "Next nothing is 43083\n",
      "Next nothing is 97338\n",
      "Next nothing is 22601\n",
      "Next nothing is 27898\n",
      "Next nothing is 56149\n",
      "Next nothing is 95637\n",
      "Next nothing is 39483\n",
      "Next nothing is 94070\n",
      "Next nothing is 92752\n",
      "Next nothing is 95205\n",
      "Next nothing is 73840\n",
      "Next nothing is 38673\n",
      "Next nothing is 78668\n",
      "Next nothing is 72782\n",
      "Next nothing is 50761\n",
      "Next nothing is 68023\n",
      "Next nothing is 27107\n",
      "Next nothing is 61416\n",
      "Next nothing is 18525\n",
      "Next nothing is 26202\n",
      "Next nothing is 34548\n",
      "Next nothing is 48464\n",
      "Next nothing is 18987\n",
      "Next nothing is 2539\n",
      "Next nothing is 16362\n",
      "Next nothing is 97400\n",
      "Next nothing is 35559\n",
      "Next nothing is 49787\n",
      "Next nothing is 27738\n",
      "Next nothing is 58043\n",
      "Next nothing is 65166\n",
      "Next nothing is 63997\n",
      "Next nothing is 20717\n",
      "Next nothing is 24530\n",
      "Next nothing is 21174\n",
      "Next nothing is 68030\n",
      "Next nothing is 55286\n",
      "Next nothing is 17904\n",
      "Next nothing is 86545\n",
      "Next nothing is 95763\n",
      "Next nothing is 18922\n",
      "Next nothing is 27319\n",
      "Next nothing is 61270\n",
      "Next nothing is 1064\n",
      "Next nothing is 8424\n",
      "Next nothing is 59672\n",
      "Next nothing is 51066\n",
      "Next nothing is 44848\n",
      "Next nothing is 22633\n",
      "Next nothing is 25923\n",
      "Next nothing is 58240\n",
      "Next nothing is 51783\n",
      "Next nothing is 33131\n",
      "Next nothing is 75249\n",
      "Next nothing is 49394\n",
      "Next nothing is 87771\n",
      "Next nothing is 404\n",
      "Next nothing is 93575\n",
      "Next nothing is 82483\n",
      "Next nothing is 78096\n",
      "Next nothing is 28374\n",
      "Next nothing is 58341\n",
      "Next nothing is 75198\n",
      "Next nothing is 64511\n",
      "Next nothing is 44038\n",
      "Next nothing is 25136\n",
      "Next nothing is 88199\n",
      "Next nothing is 46518\n",
      "Next nothing is 71787\n",
      "Next nothing is 68974\n",
      "Next nothing is 75307\n",
      "Next nothing is 12176\n",
      "Next nothing is 62030\n",
      "Next nothing is 49856\n",
      "Next nothing is 64466\n",
      "Next nothing is 668\n",
      "Next nothing is 57709\n",
      "Next nothing is 52400\n",
      "Next nothing is 94833\n",
      "Next nothing is 65415\n",
      "Next nothing is 80057\n",
      "Next nothing is 73422\n",
      "Next nothing is 86874\n",
      "Next nothing is 94159\n",
      "Next nothing is 16466\n",
      "Next nothing is 6549\n",
      "Next nothing is 92525\n",
      "Next nothing is 40627\n",
      "Next nothing is 27531\n",
      "Next nothing is 88177\n",
      "Next nothing is 4465\n",
      "Next nothing is 99189\n",
      "Next nothing is 47856\n",
      "Next nothing is 83694\n",
      "Next nothing is 54379\n",
      "Next nothing is 47454\n",
      "Next nothing is 87096\n",
      "Next nothing is 3469\n",
      "Next nothing is 99254\n",
      "Next nothing is 4630\n",
      "Next nothing is 75878\n",
      "Next nothing is 21776\n",
      "Next nothing is 92781\n",
      "Next nothing is 23060\n",
      "Next nothing is 89587\n",
      "Next nothing is 18346\n",
      "Next nothing is 47867\n",
      "Next nothing is 41004\n",
      "Next nothing is 13430\n",
      "Next nothing is 381\n",
      "Next nothing is 8755\n",
      "Next nothing is 58832\n",
      "Next nothing is 92450\n",
      "Next nothing is 64821\n",
      "Next nothing is 84642\n",
      "Next nothing is 2105\n",
      "Next nothing is 17305\n",
      "Next nothing is 60154\n",
      "Next nothing is 77752\n",
      "Next nothing is 39994\n",
      "Next nothing is 30257\n",
      "Next nothing is 60804\n",
      "Next nothing is 8060\n",
      "Next nothing is 83168\n",
      "Next nothing is 81281\n",
      "Next nothing is 29319\n",
      "Next nothing is 84291\n",
      "Next nothing is 2134\n",
      "Next nothing is 12889\n",
      "Next nothing is 70671\n",
      "Next nothing is 53206\n",
      "Next nothing is 3864\n",
      "Next nothing is 71232\n",
      "Next nothing is 35128\n",
      "Next nothing is 45383\n",
      "Next nothing is 43864\n",
      "Next nothing is 83422\n",
      "Next nothing is 45657\n",
      "Next nothing is 90923\n",
      "Next nothing is 93059\n",
      "Next nothing is 82431\n",
      "Next nothing is 32308\n",
      "Next nothing is 94968\n"
     ]
    },
    {
     "name": "stdout",
     "output_type": "stream",
     "text": [
      "Next nothing is 19185\n",
      "Next nothing is 55937\n",
      "Next nothing is 53897\n",
      "Next nothing is 62026\n",
      "Next nothing is 63032\n",
      "Next nothing is 81488\n",
      "Next nothing is 8601\n",
      "Next nothing is 73718\n",
      "Next nothing is 22577\n",
      "Next nothing is 99460\n",
      "Next nothing is 58858\n",
      "Next nothing is 65384\n",
      "Next nothing is 13622\n",
      "Next nothing is 14212\n",
      "Next nothing is 90949\n",
      "Next nothing is 19069\n",
      "Next nothing is 48930\n",
      "Next nothing is 48909\n",
      "Next nothing is 55205\n",
      "Next nothing is 51696\n",
      "Next nothing is 11560\n",
      "Next nothing is 98848\n",
      "Next nothing is 82785\n",
      "Next nothing is 85828\n",
      "Next nothing is 74671\n",
      "Next nothing is 47269\n",
      "Next nothing is 87933\n",
      "Next nothing is 83248\n",
      "Next nothing is 9002\n",
      "Next nothing is 55287\n",
      "Next nothing is 81455\n",
      "Next nothing is 47329\n",
      "Next nothing is 16738\n",
      "Next nothing is 68790\n",
      "Next nothing is 31232\n",
      "Next nothing is 98034\n",
      "Next nothing is 45243\n",
      "Next nothing is 43597\n",
      "Next nothing is 98246\n",
      "Next nothing is 36542\n",
      "Next nothing is 54606\n",
      "Next nothing is 9301\n",
      "Next nothing is 87282\n",
      "Next nothing is 48551\n",
      "Next nothing is 91285\n",
      "Next nothing is 11090\n",
      "Next nothing is 71454\n",
      "Next nothing is 65829\n",
      "Next nothing is 44481\n",
      "Next nothing is 23672\n",
      "Next nothing is 34339\n",
      "Next nothing is 90980\n",
      "Next nothing is 78901\n",
      "Next nothing is 3423\n",
      "Next nothing is 37522\n",
      "Next nothing is 19932\n",
      "Next nothing is 92578\n",
      "Next nothing is 12931\n",
      "Next nothing is 12677\n",
      "Next nothing is 819\n",
      "Next nothing is 6125\n",
      "Next nothing is 53248\n",
      "Next nothing is 14469\n",
      "Next nothing is 64440\n",
      "Next nothing is 35616\n",
      "Next nothing is 67375\n",
      "Next nothing is 49214\n",
      "Next nothing is 66203\n",
      "Next nothing is 80968\n",
      "Next nothing is 79396\n",
      "Next nothing is 37781\n",
      "Next nothing is 9715\n",
      "Next nothing is 24581\n",
      "Next nothing is 63414\n",
      "Next nothing is 63949\n",
      "Next nothing is 46595\n",
      "Next nothing is 9384\n",
      "Next nothing is 64974\n",
      "Next nothing is 94277\n",
      "Next nothing is 27064\n",
      "Next nothing is 55621\n",
      "Next nothing is 69222\n",
      "Next nothing is 70168\n",
      "Next nothing is 63528\n",
      "Next nothing is 80304\n",
      "Next nothing is 94510\n",
      "Next nothing is 40068\n",
      "Next nothing is 86847\n",
      "Next nothing is 4861\n",
      "Next nothing is 91570\n",
      "Next nothing is 18108\n",
      "Next nothing is 92797\n",
      "Next nothing is 10653\n",
      "Next nothing is 58973\n",
      "Next nothing is 65708\n",
      "Next nothing is 85683\n",
      "Next nothing is 58791\n",
      "Next nothing is 84134\n",
      "Next nothing is 16715\n",
      "Next nothing is 4130\n",
      "Next nothing is 8333\n",
      "Next nothing is 2658\n",
      "Next nothing is 29888\n",
      "Next nothing is 92509\n",
      "Next nothing is 24885\n",
      "Next nothing is 85346\n",
      "Next nothing is 88754\n",
      "Next nothing is 87449\n",
      "Next nothing is 80326\n",
      "Next nothing is 41417\n",
      "Next nothing is 62569\n",
      "Next nothing is 34147\n",
      "Next nothing is 37638\n",
      "Next nothing is 28177\n",
      "Next nothing is 59599\n",
      "Next nothing is 98155\n",
      "Next nothing is 1035\n",
      "Next nothing is 88241\n",
      "Next nothing is 12774\n",
      "Next nothing is 88944\n",
      "Next nothing is 19873\n",
      "Next nothing is 8308\n",
      "Next nothing is 46992\n",
      "Next nothing is 83493\n",
      "Next nothing is 49337\n",
      "Next nothing is 10134\n",
      "Next nothing is 89272\n",
      "Next nothing is 21051\n",
      "Next nothing is 10771\n",
      "Next nothing is 80834\n",
      "Next nothing is 89357\n",
      "Next nothing is 14114\n",
      "Next nothing is 31302\n",
      "Next nothing is 51107\n",
      "Next nothing is 23249\n",
      "Next nothing is 91555\n",
      "Next nothing is 20144\n",
      "Next nothing is 57011\n",
      "Next nothing is 61058\n",
      "Next nothing is 59316\n",
      "Next nothing is 109\n",
      "Next nothing is 22645\n",
      "Next nothing is 83445\n",
      "Next nothing is 66015\n",
      "Next nothing is 82896\n",
      "Next nothing is 33160\n",
      "Next nothing is 80234\n",
      "Next nothing is 69853\n",
      "Next nothing is 17729\n",
      "Next nothing is 20261\n",
      "Next nothing is 95032\n",
      "Next nothing is 19899\n",
      "Next nothing is 43848\n",
      "Next nothing is 53819\n",
      "Next nothing is 1946\n",
      "Next nothing is 75651\n",
      "Next nothing is 62387\n",
      "Next nothing is 70384\n",
      "Next nothing is 68507\n",
      "Next nothing is 88256\n",
      "Next nothing is 29789\n",
      "Next nothing is 83043\n",
      "Next nothing is 14979\n",
      "Next nothing is 97422\n",
      "Next nothing is 96333\n",
      "Next nothing is 665\n",
      "Next nothing is 83779\n",
      "Next nothing is 15008\n",
      "Next nothing is 11812\n",
      "Next nothing is 32086\n",
      "Next nothing is 19311\n",
      "Next nothing is 38267\n",
      "Next nothing is 7440\n",
      "Next nothing is 8587\n",
      "Next nothing is 84193\n",
      "Next nothing is 19413\n",
      "Next nothing is 47199\n",
      "Next nothing is 98913\n",
      "Next nothing is 79128\n",
      "Next nothing is 1447\n",
      "Next nothing is 19812\n",
      "Next nothing is 7520\n",
      "Next nothing is 58170\n",
      "Next nothing is 78767\n",
      "Next nothing is 36504\n",
      "Next nothing is 12155\n",
      "Next nothing is 53725\n",
      "Next nothing is 15724\n",
      "Next nothing is 31280\n",
      "Next nothing is 531\n",
      "Next nothing is 21899\n",
      "Next nothing is 21132\n",
      "Next nothing is 45275\n",
      "Next nothing is 14983\n",
      "Next nothing is 9207\n",
      "Next nothing is 82137\n",
      "Next nothing is 13076\n",
      "Next nothing is 32752\n",
      "Next nothing is 94091\n",
      "Next nothing is 91316\n",
      "Next nothing is 17593\n",
      "Next nothing is 86692\n",
      "Next nothing is 83916\n",
      "Next nothing is 84429\n",
      "Next nothing is 6123\n",
      "Next nothing is 52149\n",
      "Next nothing is 35368\n",
      "Next nothing is 85722\n",
      "Next nothing is 84034\n",
      "Next nothing is 71297\n",
      "Next nothing is 226\n",
      "Next nothing is 20433\n",
      "Next nothing is 83398\n",
      "Next nothing is 5442\n",
      "Next nothing is 81622\n",
      "Next nothing is 93237\n",
      "Next nothing is 76689\n",
      "Next nothing is 67773\n",
      "Next nothing is 16764\n",
      "Next nothing is 12187\n",
      "Next nothing is 45084\n",
      "Next nothing is 23959\n",
      "Next nothing is 83235\n",
      "Next nothing is 38733\n",
      "Next nothing is 55868\n",
      "Next nothing is 29\n",
      "Next nothing is 83831\n",
      "Next nothing is 80100\n",
      "Next nothing is 14723\n",
      "Next nothing is 60832\n",
      "Next nothing is 72946\n",
      "Next nothing is 37493\n",
      "Next nothing is 27258\n",
      "Next nothing is 67542\n",
      "Next nothing is 28426\n",
      "Next nothing is 35520\n",
      "Next nothing is 19478\n",
      "Next nothing is 53315\n",
      "Next nothing is 89835\n",
      "Next nothing is 45636\n",
      "Next nothing is 84411\n",
      "Next nothing is 44013\n",
      "Next nothing is 67751\n",
      "Next nothing is 94119\n",
      "Next nothing is 15872\n",
      "Next nothing is 97486\n",
      "Next nothing is 4530\n",
      "Next nothing is 2285\n",
      "Next nothing is 48179\n",
      "Next nothing is 36594\n",
      "Next nothing is 52069\n",
      "Next nothing is 44214\n",
      "Next nothing is 50187\n",
      "Next nothing is 63191\n",
      "Next nothing is 96123\n",
      "Next nothing is 37905\n",
      "Next nothing is 35302\n",
      "Next nothing is 26074\n",
      "Next nothing is 24510\n",
      "Next nothing is 77136\n",
      "Next nothing is 34296\n",
      "Next nothing is 29704\n",
      "Next nothing is 22944\n",
      "Next nothing is 10945\n",
      "Next nothing is 73256\n",
      "Next nothing is 40940\n",
      "Next nothing is 2718\n",
      "Next nothing is 94666\n",
      "Next nothing is 53811\n",
      "Next nothing is 75159\n",
      "Next nothing is 14802\n",
      "Next nothing is 29858\n",
      "Next nothing is 79484\n",
      "Next nothing is 55887\n",
      "Next nothing is 8798\n",
      "Next nothing is 89519\n",
      "Next nothing is 60659\n",
      "Next nothing is 53544\n",
      "Next nothing is 8514\n",
      "Next nothing is 97430\n",
      "Next nothing is 1228\n",
      "Next nothing is 16133\n",
      "Next nothing is 19944\n",
      "Next nothing is 25547\n",
      "Next nothing is 76840\n",
      "Next nothing is 57327\n",
      "Next nothing is 96467\n",
      "Next nothing is 97937\n",
      "Next nothing is 22345\n",
      "Next nothing is 75533\n",
      "Next nothing is 80499\n",
      "Next nothing is 39170\n",
      "Next nothing is 25194\n",
      "Next nothing is 78713\n",
      "Next nothing is 7331\n",
      "Next nothing is 92642\n",
      "Next nothing is 45567\n",
      "Next nothing is 58155\n",
      "Next nothing is 4918\n",
      "Next nothing is 92414\n",
      "Next nothing is 42478\n",
      "Next nothing is 57589\n",
      "Next nothing is 46276\n",
      "Next nothing is 28529\n",
      "Next nothing is 36871\n",
      "Next nothing is 44875\n",
      "Next nothing is 66783\n",
      "Next nothing is 1043\n",
      "Next nothing is 78311\n",
      "Next nothing is 65698\n",
      "Next nothing is 95457\n",
      "Next nothing is 28935\n",
      "Next nothing is 58156\n",
      "Next nothing is 12445\n",
      "Next nothing is 21019\n",
      "Next nothing is 81654\n",
      "Next nothing is 82814\n",
      "Next nothing is 75481\n",
      "Next nothing is 41055\n",
      "Next nothing is 55067\n",
      "Next nothing is 49768\n",
      "Next nothing is 7422\n",
      "Next nothing is 30983\n",
      "Next nothing is 81931\n",
      "Next nothing is 45122\n",
      "Next nothing is 75101\n",
      "Next nothing is 71773\n",
      "Next nothing is 52323\n",
      "Next nothing is 41386\n",
      "Next nothing is 36729\n",
      "Next nothing is 24027\n",
      "Next nothing is 82430\n",
      "Next nothing is 53824\n",
      "Next nothing is 75518\n",
      "Next nothing is 38146\n",
      "Next nothing is 27401\n",
      "Next nothing is 1321\n",
      "Next nothing is 20200\n",
      "Next nothing is 30934\n",
      "Next nothing is 43923\n",
      "Next nothing is 9472\n",
      "Next nothing is 87617\n",
      "Next nothing is 7973\n",
      "Next nothing is 40413\n",
      "Next nothing is 34242\n",
      "Next nothing is 51833\n",
      "Next nothing is 7298\n",
      "Next nothing is 26372\n",
      "Next nothing is 22704\n",
      "Next nothing is 87196\n",
      "Next nothing is 1866\n",
      "Next nothing is 10454\n",
      "Next nothing is 8810\n",
      "Next nothing is 14074\n",
      "Next nothing is 77163\n",
      "Next nothing is 15394\n",
      "Next nothing is 5630\n",
      "Next nothing is 17801\n",
      "Next nothing is 80920\n",
      "Next nothing is 22571\n",
      "Next nothing is 25311\n",
      "Next nothing is 270\n",
      "Next nothing is 2144\n",
      "Next nothing is 63031\n",
      "Next nothing is 82371\n",
      "Next nothing is 94758\n",
      "Next nothing is 38188\n",
      "Next nothing is 34663\n",
      "Next nothing is 69757\n",
      "Next nothing is 37718\n",
      "Next nothing is 55552\n",
      "Next nothing is 81137\n",
      "Next nothing is 27652\n",
      "Next nothing is 87492\n",
      "Next nothing is 25632\n",
      "Next nothing is 95731\n",
      "Next nothing is 53233\n",
      "Next nothing is 69684\n",
      "Next nothing is 75600\n",
      "Next nothing is 84135\n",
      "Next nothing is 72452\n",
      "Next nothing is 73281\n",
      "Next nothing is 45808\n",
      "Next nothing is 934\n",
      "Next nothing is 12130\n",
      "Next nothing is 15750\n",
      "Next nothing is 69210\n",
      "Next nothing is 99905\n",
      "Next nothing is 63643\n",
      "Next nothing is 47850\n",
      "Next nothing is 83564\n",
      "Next nothing is 77241\n",
      "Next nothing is 75978\n",
      "Next nothing is 24255\n",
      "Next nothing is 89197\n",
      "Next nothing is 42934\n",
      "Next nothing is 76920\n",
      "Next nothing is 29994\n",
      "Next nothing is 45675\n",
      "Next nothing is 30076\n",
      "Next nothing is 69280\n",
      "Next nothing is 70557\n",
      "Next nothing is 43708\n",
      "Next nothing is 62628\n",
      "Next nothing is 89095\n",
      "Next nothing is 80504\n",
      "Next nothing is 76887\n",
      "Next nothing is 27720\n",
      "Next nothing is 67628\n",
      "Next nothing is 11080\n",
      "Next nothing is 37351\n",
      "Next nothing is 55940\n",
      "Next nothing is 56000\n",
      "Next nothing is 79866\n",
      "Next nothing is 33203\n",
      "Next nothing is 16228\n",
      "Next nothing is 8716\n",
      "Next nothing is 74862\n",
      "Next nothing is 32459\n",
      "Next nothing is 58183\n",
      "Next nothing is 18633\n",
      "Next nothing is 40377\n",
      "Next nothing is 70141\n",
      "Next nothing is 84619\n",
      "Next nothing is 28850\n",
      "Next nothing is 45925\n",
      "Next nothing is 7057\n",
      "Next nothing is 16792\n",
      "Next nothing is 54610\n",
      "Next nothing is 21249\n",
      "Next nothing is 15667\n",
      "Next nothing is 91038\n",
      "Next nothing is 44221\n",
      "Next nothing is 992\n",
      "Next nothing is 8700\n",
      "Next nothing is 45100\n",
      "Next nothing is 68628\n",
      "Next nothing is 67824\n",
      "Next nothing is 46145\n",
      "Collect the comments.\n"
     ]
    },
    {
     "ename": "KeyError",
     "evalue": "\"There is no item named 'comments..txt' in the archive\"",
     "output_type": "error",
     "traceback": [
      "\u001b[1;31m---------------------------------------------------------------------------\u001b[0m",
      "\u001b[1;31mKeyError\u001b[0m                                  Traceback (most recent call last)",
      "\u001b[1;32m<ipython-input-64-4011c435c29d>\u001b[0m in \u001b[0;36m<module>\u001b[1;34m()\u001b[0m\n\u001b[0;32m     15\u001b[0m     \u001b[0mx\u001b[0m \u001b[1;33m=\u001b[0m \u001b[0mlist1\u001b[0m\u001b[1;33m[\u001b[0m\u001b[1;33m-\u001b[0m\u001b[1;36m1\u001b[0m\u001b[1;33m]\u001b[0m\u001b[1;33m\u001b[0m\u001b[0m\n\u001b[0;32m     16\u001b[0m     \u001b[0mname\u001b[0m \u001b[1;33m=\u001b[0m \u001b[0mx\u001b[0m\u001b[1;33m+\u001b[0m\u001b[1;34m\".txt\"\u001b[0m\u001b[1;33m\u001b[0m\u001b[0m\n\u001b[1;32m---> 17\u001b[1;33m     \u001b[0mcomments\u001b[0m\u001b[1;33m.\u001b[0m\u001b[0mappend\u001b[0m\u001b[1;33m(\u001b[0m\u001b[0mzf\u001b[0m\u001b[1;33m.\u001b[0m\u001b[0mgetinfo\u001b[0m\u001b[1;33m(\u001b[0m\u001b[0mname\u001b[0m\u001b[1;33m)\u001b[0m\u001b[1;33m.\u001b[0m\u001b[0mcomment\u001b[0m\u001b[1;33m.\u001b[0m\u001b[0mdecode\u001b[0m\u001b[1;33m(\u001b[0m\u001b[1;34m\"utf-8\"\u001b[0m\u001b[1;33m)\u001b[0m\u001b[1;33m)\u001b[0m\u001b[1;33m\u001b[0m\u001b[0m\n\u001b[0m\u001b[0;32m     18\u001b[0m     \u001b[0mf\u001b[0m \u001b[1;33m=\u001b[0m \u001b[0mopen\u001b[0m\u001b[1;33m(\u001b[0m\u001b[1;34m\"channel\\\\\"\u001b[0m\u001b[1;33m+\u001b[0m\u001b[0mname\u001b[0m\u001b[1;33m)\u001b[0m\u001b[1;33m\u001b[0m\u001b[0m\n\u001b[0;32m     19\u001b[0m     \u001b[0mlist1\u001b[0m \u001b[1;33m=\u001b[0m \u001b[0mf\u001b[0m\u001b[1;33m.\u001b[0m\u001b[0mreadline\u001b[0m\u001b[1;33m(\u001b[0m\u001b[1;33m)\u001b[0m\u001b[1;33m.\u001b[0m\u001b[0msplit\u001b[0m\u001b[1;33m(\u001b[0m\u001b[1;33m)\u001b[0m\u001b[1;33m\u001b[0m\u001b[0m\n",
      "\u001b[1;32m~\\Anaconda3\\lib\\zipfile.py\u001b[0m in \u001b[0;36mgetinfo\u001b[1;34m(self, name)\u001b[0m\n\u001b[0;32m   1279\u001b[0m         \u001b[1;32mif\u001b[0m \u001b[0minfo\u001b[0m \u001b[1;32mis\u001b[0m \u001b[1;32mNone\u001b[0m\u001b[1;33m:\u001b[0m\u001b[1;33m\u001b[0m\u001b[0m\n\u001b[0;32m   1280\u001b[0m             raise KeyError(\n\u001b[1;32m-> 1281\u001b[1;33m                 'There is no item named %r in the archive' % name)\n\u001b[0m\u001b[0;32m   1282\u001b[0m \u001b[1;33m\u001b[0m\u001b[0m\n\u001b[0;32m   1283\u001b[0m         \u001b[1;32mreturn\u001b[0m \u001b[0minfo\u001b[0m\u001b[1;33m\u001b[0m\u001b[0m\n",
      "\u001b[1;31mKeyError\u001b[0m: \"There is no item named 'comments..txt' in the archive\""
     ]
    }
   ],
   "source": [
    "import zipfile\n",
    "zf = zipfile.ZipFile('channel.zip','r')\n",
    "\n",
    "list1 = \"Next nothing is 94191\".split()\n",
    "x = list1[-1]\n",
    "comments=[]\n",
    "name = x+\".txt\"\n",
    "comments.append(zf.getinfo(name).comment.decode(\"utf-8\"))\n",
    "f = open(\"channel\\\\\"+name)\n",
    "list1 = f.readline().split()\n",
    "for count in range(0,950):\n",
    "    f.seek(0)\n",
    "    print(f.readline())\n",
    "    zf.getinfo(\"90506.txt\").comment\n",
    "    x = list1[-1]\n",
    "    name = x+\".txt\"\n",
    "    comments.append(zf.getinfo(name).comment.decode(\"utf-8\"))\n",
    "    f = open(\"channel\\\\\"+name)\n",
    "    list1 = f.readline().split()"
   ]
  },
  {
   "cell_type": "code",
   "execution_count": 66,
   "metadata": {},
   "outputs": [
    {
     "name": "stdout",
     "output_type": "stream",
     "text": [
      "***************************************************************\n",
      "****************************************************************\n",
      "**                                                            **\n",
      "**   OO    OO    XX      YYYY    GG    GG  EEEEEE NN      NN  **\n",
      "**   OO    OO  XXXXXX   YYYYYY   GG   GG   EEEEEE  NN    NN   **\n",
      "**   OO    OO XXX  XXX YYY   YY  GG GG     EE       NN  NN    **\n",
      "**   OOOOOOOO XX    XX YY        GGG       EEEEE     NNNN     **\n",
      "**   OOOOOOOO XX    XX YY        GGG       EEEEE      NN      **\n",
      "**   OO    OO XXX  XXX YYY   YY  GG GG     EE         NN      **\n",
      "**   OO    OO  XXXXXX   YYYYYY   GG   GG   EEEEEE     NN      **\n",
      "**   OO    OO    XX      YYYY    GG    GG  EEEEEE     NN      **\n",
      "**                                                            **\n",
      "****************************************************************\n",
      " **************************************************************\n",
      "\n"
     ]
    }
   ],
   "source": [
    "print(\"\".join(comments))"
   ]
  },
  {
   "cell_type": "code",
   "execution_count": 63,
   "metadata": {},
   "outputs": [
    {
     "data": {
      "text/plain": [
       "b' '"
      ]
     },
     "execution_count": 63,
     "metadata": {},
     "output_type": "execute_result"
    }
   ],
   "source": []
  },
  {
   "cell_type": "code",
   "execution_count": null,
   "metadata": {
    "collapsed": true
   },
   "outputs": [],
   "source": []
  },
  {
   "cell_type": "code",
   "execution_count": 72,
   "metadata": {
    "collapsed": true
   },
   "outputs": [],
   "source": []
  },
  {
   "cell_type": "code",
   "execution_count": 2,
   "metadata": {
    "collapsed": true
   },
   "outputs": [],
   "source": [
    "first = [146,399,163,403,170,393,169,391,166,386,170,381,170,371,170,355,169,346,167,335,170,329,170,320,170,\n",
    "310,171,301,173,290,178,289,182,287,188,286,190,286,192,291,194,296,195,305,194,307,191,312,190,316,\n",
    "190,321,192,331,193,338,196,341,197,346,199,352,198,360,197,366,197,373,196,380,197,383,196,387,192,\n",
    "389,191,392,190,396,189,400,194,401,201,402,208,403,213,402,216,401,219,397,219,393,216,390,215,385,\n",
    "215,379,213,373,213,365,212,360,210,353,210,347,212,338,213,329,214,319,215,311,215,306,216,296,218,\n",
    "290,221,283,225,282,233,284,238,287,243,290,250,291,255,294,261,293,265,291,271,291,273,289,278,287,\n",
    "279,285,281,280,284,278,284,276,287,277,289,283,291,286,294,291,296,295,299,300,301,304,304,320,305,\n",
    "327,306,332,307,341,306,349,303,354,301,364,301,371,297,375,292,384,291,386,302,393,324,391,333,387,\n",
    "328,375,329,367,329,353,330,341,331,328,336,319,338,310,341,304,341,285,341,278,343,269,344,262,346,\n",
    "259,346,251,349,259,349,264,349,273,349,280,349,288,349,295,349,298,354,293,356,286,354,279,352,268,\n",
    "352,257,351,249,350,234,351,211,352,197,354,185,353,171,351,154,348,147,342,137,339,132,330,122,327,\n",
    "120,314,116,304,117,293,118,284,118,281,122,275,128,265,129,257,131,244,133,239,134,228,136,221,137,\n",
    "214,138,209,135,201,132,192,130,184,131,175,129,170,131,159,134,157,134,160,130,170,125,176,114,176,\n",
    "102,173,103,172,108,171,111,163,115,156,116,149,117,142,116,136,115,129,115,124,115,120,115,115,117,\n",
    "113,120,109,122,102,122,100,121,95,121,89,115,87,110,82,109,84,118,89,123,93,129,100,130,108,132,110,\n",
    "133,110,136,107,138,105,140,95,138,86,141,79,149,77,155,81,162,90,165,97,167,99,171,109,171,107,161,\n",
    "111,156,113,170,115,185,118,208,117,223,121,239,128,251,133,259,136,266,139,276,143,290,148,310,151,\n",
    "332,155,348,156,353,153,366,149,379,147,394,146,399]\n"
   ]
  },
  {
   "cell_type": "code",
   "execution_count": 1,
   "metadata": {},
   "outputs": [
    {
     "data": {
      "image/png": "[encoded data removed]",
      "text/plain": [
       "<matplotlib.figure.Figure at 0x253f3f5cb38>"
      ]
     },
     "metadata": {},
     "output_type": "display_data"
    }
   ],
   "source": [
    "import matplotlib.pyplot as plt\n",
    "plt.plot(146, 399, 'ro-')\n",
    "plt.plot(163, 403, 'ro-')\n",
    "plt.show()"
   ]
  },
  {
   "cell_type": "code",
   "execution_count": 7,
   "metadata": {},
   "outputs": [],
   "source": [
    "l1 = []\n",
    "l2 = []\n",
    "count = 0\n",
    "for x in first:\n",
    "    if count%2==0:\n",
    "        l1.append(x)\n",
    "    else:\n",
    "        l2.append(x)\n",
    "    count = count + 1"
   ]
  },
  {
   "cell_type": "code",
   "execution_count": 12,
   "metadata": {},
   "outputs": [
    {
     "data": {
      "image/png": "[encoded data removed]",
      "text/plain": [
       "<matplotlib.figure.Figure at 0x253f53f3160>"
      ]
     },
     "metadata": {},
     "output_type": "display_data"
    }
   ],
   "source": [
    "for i in range(0,221):\n",
    "    plt.plot(l1[i], l2[i], 'ro-')\n",
    "plt.show()\n"
   ]
  },
  {
   "cell_type": "code",
   "execution_count": null,
   "metadata": {
    "collapsed": true
   },
   "outputs": [],
   "source": []
  }
 ],
 "metadata": {
  "kernelspec": {
   "display_name": "Python 3",
   "language": "python",
   "name": "python3"
  },
  "language_info": {
   "codemirror_mode": {
    "name": "ipython",
    "version": 3
   },
   "file_extension": ".py",
   "mimetype": "text/x-python",
   "name": "python",
   "nbconvert_exporter": "python",
   "pygments_lexer": "ipython3",
   "version": "3.6.3"
  }
 },
 "nbformat": 4,
 "nbformat_minor": 2
}
